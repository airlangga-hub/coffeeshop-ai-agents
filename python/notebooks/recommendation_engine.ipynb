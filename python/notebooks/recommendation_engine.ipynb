{
 "cells": [
  {
   "cell_type": "code",
   "execution_count": 13,
   "id": "00920e33",
   "metadata": {},
   "outputs": [],
   "source": [
    "import pandas as pd\n",
    "import matplotlib.pyplot as plt\n",
    "import seaborn as sns"
   ]
  },
  {
   "cell_type": "markdown",
   "id": "412ec0ed",
   "metadata": {},
   "source": [
    "# Sales Data"
   ]
  },
  {
   "cell_type": "code",
   "execution_count": 2,
   "id": "c9839d60",
   "metadata": {},
   "outputs": [],
   "source": [
    "sales = pd.read_csv(\"../data/201904 sales reciepts.csv\",\n",
    "                    usecols=['transaction_id', 'customer_id', 'product_id', 'quantity'])"
   ]
  },
  {
   "cell_type": "code",
   "execution_count": 3,
   "id": "e5e1391d",
   "metadata": {},
   "outputs": [
    {
     "data": {
      "text/html": [
       "<div>\n",
       "<style scoped>\n",
       "    .dataframe tbody tr th:only-of-type {\n",
       "        vertical-align: middle;\n",
       "    }\n",
       "\n",
       "    .dataframe tbody tr th {\n",
       "        vertical-align: top;\n",
       "    }\n",
       "\n",
       "    .dataframe thead th {\n",
       "        text-align: right;\n",
       "    }\n",
       "</style>\n",
       "<table border=\"1\" class=\"dataframe\">\n",
       "  <thead>\n",
       "    <tr style=\"text-align: right;\">\n",
       "      <th></th>\n",
       "      <th>transaction_id</th>\n",
       "      <th>customer_id</th>\n",
       "      <th>product_id</th>\n",
       "      <th>quantity</th>\n",
       "    </tr>\n",
       "  </thead>\n",
       "  <tbody>\n",
       "    <tr>\n",
       "      <th>0</th>\n",
       "      <td>7</td>\n",
       "      <td>558</td>\n",
       "      <td>52</td>\n",
       "      <td>1</td>\n",
       "    </tr>\n",
       "    <tr>\n",
       "      <th>1</th>\n",
       "      <td>11</td>\n",
       "      <td>781</td>\n",
       "      <td>27</td>\n",
       "      <td>2</td>\n",
       "    </tr>\n",
       "    <tr>\n",
       "      <th>2</th>\n",
       "      <td>19</td>\n",
       "      <td>788</td>\n",
       "      <td>46</td>\n",
       "      <td>2</td>\n",
       "    </tr>\n",
       "    <tr>\n",
       "      <th>3</th>\n",
       "      <td>32</td>\n",
       "      <td>683</td>\n",
       "      <td>23</td>\n",
       "      <td>2</td>\n",
       "    </tr>\n",
       "    <tr>\n",
       "      <th>4</th>\n",
       "      <td>33</td>\n",
       "      <td>99</td>\n",
       "      <td>34</td>\n",
       "      <td>1</td>\n",
       "    </tr>\n",
       "  </tbody>\n",
       "</table>\n",
       "</div>"
      ],
      "text/plain": [
       "   transaction_id  customer_id  product_id  quantity\n",
       "0               7          558          52         1\n",
       "1              11          781          27         2\n",
       "2              19          788          46         2\n",
       "3              32          683          23         2\n",
       "4              33           99          34         1"
      ]
     },
     "execution_count": 3,
     "metadata": {},
     "output_type": "execute_result"
    }
   ],
   "source": [
    "sales.head()"
   ]
  },
  {
   "cell_type": "code",
   "execution_count": 4,
   "id": "bb81774c",
   "metadata": {},
   "outputs": [
    {
     "name": "stdout",
     "output_type": "stream",
     "text": [
      "<class 'pandas.core.frame.DataFrame'>\n",
      "RangeIndex: 49894 entries, 0 to 49893\n",
      "Data columns (total 4 columns):\n",
      " #   Column          Non-Null Count  Dtype\n",
      "---  ------          --------------  -----\n",
      " 0   transaction_id  49894 non-null  int64\n",
      " 1   customer_id     49894 non-null  int64\n",
      " 2   product_id      49894 non-null  int64\n",
      " 3   quantity        49894 non-null  int64\n",
      "dtypes: int64(4)\n",
      "memory usage: 1.5 MB\n"
     ]
    }
   ],
   "source": [
    "sales.info()"
   ]
  },
  {
   "cell_type": "code",
   "execution_count": 21,
   "id": "aa696fd5",
   "metadata": {},
   "outputs": [
    {
     "data": {
      "image/png": "[encoded data removed]",
      "text/plain": [
       "<Figure size 1000x600 with 1 Axes>"
      ]
     },
     "metadata": {},
     "output_type": "display_data"
    }
   ],
   "source": [
    "plt.figure(figsize=(10, 6))\n",
    "sns.histplot(data=sales, x='quantity', bins=5)\n",
    "plt.title('Distribution of Sales Quantity')\n",
    "plt.xlabel('Quantity')\n",
    "plt.ylabel('Count')\n",
    "plt.grid(True, alpha=0.3)"
   ]
  },
  {
   "cell_type": "markdown",
   "id": "72fbc278",
   "metadata": {},
   "source": [
    "# Product Data"
   ]
  },
  {
   "cell_type": "code",
   "execution_count": 23,
   "id": "923f71bf",
   "metadata": {},
   "outputs": [],
   "source": [
    "product = pd.read_csv(\"../data/product.csv\",\n",
    "                      usecols=['product_id', 'product_category', 'product'])"
   ]
  },
  {
   "cell_type": "code",
   "execution_count": 6,
   "id": "b9b8e292",
   "metadata": {},
   "outputs": [
    {
     "data": {
      "text/html": [
       "<div>\n",
       "<style scoped>\n",
       "    .dataframe tbody tr th:only-of-type {\n",
       "        vertical-align: middle;\n",
       "    }\n",
       "\n",
       "    .dataframe tbody tr th {\n",
       "        vertical-align: top;\n",
       "    }\n",
       "\n",
       "    .dataframe thead th {\n",
       "        text-align: right;\n",
       "    }\n",
       "</style>\n",
       "<table border=\"1\" class=\"dataframe\">\n",
       "  <thead>\n",
       "    <tr style=\"text-align: right;\">\n",
       "      <th></th>\n",
       "      <th>product_id</th>\n",
       "      <th>product_category</th>\n",
       "      <th>product</th>\n",
       "    </tr>\n",
       "  </thead>\n",
       "  <tbody>\n",
       "    <tr>\n",
       "      <th>0</th>\n",
       "      <td>1</td>\n",
       "      <td>Coffee beans</td>\n",
       "      <td>Brazilian - Organic</td>\n",
       "    </tr>\n",
       "    <tr>\n",
       "      <th>1</th>\n",
       "      <td>2</td>\n",
       "      <td>Coffee beans</td>\n",
       "      <td>Our Old Time Diner Blend</td>\n",
       "    </tr>\n",
       "    <tr>\n",
       "      <th>2</th>\n",
       "      <td>3</td>\n",
       "      <td>Coffee beans</td>\n",
       "      <td>Espresso Roast</td>\n",
       "    </tr>\n",
       "    <tr>\n",
       "      <th>3</th>\n",
       "      <td>4</td>\n",
       "      <td>Coffee beans</td>\n",
       "      <td>Primo Espresso Roast</td>\n",
       "    </tr>\n",
       "    <tr>\n",
       "      <th>4</th>\n",
       "      <td>5</td>\n",
       "      <td>Coffee beans</td>\n",
       "      <td>Columbian Medium Roast</td>\n",
       "    </tr>\n",
       "  </tbody>\n",
       "</table>\n",
       "</div>"
      ],
      "text/plain": [
       "   product_id product_category                   product\n",
       "0           1     Coffee beans       Brazilian - Organic\n",
       "1           2     Coffee beans  Our Old Time Diner Blend\n",
       "2           3     Coffee beans            Espresso Roast\n",
       "3           4     Coffee beans      Primo Espresso Roast\n",
       "4           5     Coffee beans    Columbian Medium Roast"
      ]
     },
     "execution_count": 6,
     "metadata": {},
     "output_type": "execute_result"
    }
   ],
   "source": [
    "product.head()"
   ]
  },
  {
   "cell_type": "code",
   "execution_count": 7,
   "id": "ca4eb165",
   "metadata": {},
   "outputs": [
    {
     "name": "stdout",
     "output_type": "stream",
     "text": [
      "<class 'pandas.core.frame.DataFrame'>\n",
      "RangeIndex: 88 entries, 0 to 87\n",
      "Data columns (total 3 columns):\n",
      " #   Column            Non-Null Count  Dtype \n",
      "---  ------            --------------  ----- \n",
      " 0   product_id        88 non-null     int64 \n",
      " 1   product_category  88 non-null     object\n",
      " 2   product           88 non-null     object\n",
      "dtypes: int64(1), object(2)\n",
      "memory usage: 2.2+ KB\n"
     ]
    }
   ],
   "source": [
    "product.info()"
   ]
  },
  {
   "cell_type": "code",
   "execution_count": 26,
   "id": "995ba2d5",
   "metadata": {},
   "outputs": [
    {
     "data": {
      "text/plain": [
       "9"
      ]
     },
     "execution_count": 26,
     "metadata": {},
     "output_type": "execute_result"
    }
   ],
   "source": [
    "product.product_category.nunique()"
   ]
  },
  {
   "cell_type": "code",
   "execution_count": 27,
   "id": "03976685",
   "metadata": {},
   "outputs": [
    {
     "data": {
      "text/plain": [
       "88"
      ]
     },
     "execution_count": 27,
     "metadata": {},
     "output_type": "execute_result"
    }
   ],
   "source": [
    "product['product'].nunique()"
   ]
  },
  {
   "cell_type": "code",
   "execution_count": 31,
   "id": "15ae3bc4",
   "metadata": {},
   "outputs": [
    {
     "data": {
      "image/png": "[encoded data removed]",
      "text/plain": [
       "<Figure size 1000x600 with 1 Axes>"
      ]
     },
     "metadata": {},
     "output_type": "display_data"
    }
   ],
   "source": [
    "plt.figure(figsize=(10, 6))\n",
    "product['product_category'].value_counts().plot(kind='bar')\n",
    "plt.title('Distribution of Product Categories')\n",
    "plt.xlabel('')\n",
    "plt.ylabel('Count')\n",
    "plt.xticks(rotation=45, ha='right')\n",
    "plt.tight_layout()\n",
    "plt.grid(True, alpha=0.3)"
   ]
  },
  {
   "cell_type": "markdown",
   "id": "b9cd14bf",
   "metadata": {},
   "source": [
    "# Merge Sales & Product"
   ]
  },
  {
   "cell_type": "code",
   "execution_count": 33,
   "id": "99e5d572",
   "metadata": {},
   "outputs": [
    {
     "data": {
      "text/html": [
       "<div>\n",
       "<style scoped>\n",
       "    .dataframe tbody tr th:only-of-type {\n",
       "        vertical-align: middle;\n",
       "    }\n",
       "\n",
       "    .dataframe tbody tr th {\n",
       "        vertical-align: top;\n",
       "    }\n",
       "\n",
       "    .dataframe thead th {\n",
       "        text-align: right;\n",
       "    }\n",
       "</style>\n",
       "<table border=\"1\" class=\"dataframe\">\n",
       "  <thead>\n",
       "    <tr style=\"text-align: right;\">\n",
       "      <th></th>\n",
       "      <th>transaction_id</th>\n",
       "      <th>customer_id</th>\n",
       "      <th>product_id</th>\n",
       "      <th>quantity</th>\n",
       "      <th>product_category</th>\n",
       "      <th>product</th>\n",
       "    </tr>\n",
       "  </thead>\n",
       "  <tbody>\n",
       "    <tr>\n",
       "      <th>0</th>\n",
       "      <td>7</td>\n",
       "      <td>558</td>\n",
       "      <td>52</td>\n",
       "      <td>1</td>\n",
       "      <td>Tea</td>\n",
       "      <td>Traditional Blend Chai Rg</td>\n",
       "    </tr>\n",
       "    <tr>\n",
       "      <th>1</th>\n",
       "      <td>11</td>\n",
       "      <td>781</td>\n",
       "      <td>27</td>\n",
       "      <td>2</td>\n",
       "      <td>Coffee</td>\n",
       "      <td>Brazilian Lg</td>\n",
       "    </tr>\n",
       "    <tr>\n",
       "      <th>2</th>\n",
       "      <td>19</td>\n",
       "      <td>788</td>\n",
       "      <td>46</td>\n",
       "      <td>2</td>\n",
       "      <td>Tea</td>\n",
       "      <td>Serenity Green Tea Rg</td>\n",
       "    </tr>\n",
       "    <tr>\n",
       "      <th>3</th>\n",
       "      <td>32</td>\n",
       "      <td>683</td>\n",
       "      <td>23</td>\n",
       "      <td>2</td>\n",
       "      <td>Coffee</td>\n",
       "      <td>Our Old Time Diner Blend Rg</td>\n",
       "    </tr>\n",
       "    <tr>\n",
       "      <th>4</th>\n",
       "      <td>33</td>\n",
       "      <td>99</td>\n",
       "      <td>34</td>\n",
       "      <td>1</td>\n",
       "      <td>Coffee</td>\n",
       "      <td>Jamaican Coffee River Sm</td>\n",
       "    </tr>\n",
       "  </tbody>\n",
       "</table>\n",
       "</div>"
      ],
      "text/plain": [
       "   transaction_id  customer_id  product_id  quantity product_category  \\\n",
       "0               7          558          52         1              Tea   \n",
       "1              11          781          27         2           Coffee   \n",
       "2              19          788          46         2              Tea   \n",
       "3              32          683          23         2           Coffee   \n",
       "4              33           99          34         1           Coffee   \n",
       "\n",
       "                       product  \n",
       "0    Traditional Blend Chai Rg  \n",
       "1                 Brazilian Lg  \n",
       "2        Serenity Green Tea Rg  \n",
       "3  Our Old Time Diner Blend Rg  \n",
       "4     Jamaican Coffee River Sm  "
      ]
     },
     "execution_count": 33,
     "metadata": {},
     "output_type": "execute_result"
    }
   ],
   "source": [
    "df = sales.merge(product, \"left\", \"product_id\")\n",
    "df.head()"
   ]
  },
  {
   "cell_type": "code",
   "execution_count": 9,
   "id": "9761e95a",
   "metadata": {},
   "outputs": [
    {
     "data": {
      "text/plain": [
       "transaction_id      0\n",
       "customer_id         0\n",
       "product_id          0\n",
       "quantity            0\n",
       "product_category    0\n",
       "product             0\n",
       "dtype: int64"
      ]
     },
     "execution_count": 9,
     "metadata": {},
     "output_type": "execute_result"
    }
   ],
   "source": [
    "df.isna().sum()"
   ]
  },
  {
   "cell_type": "markdown",
   "id": "84020a01",
   "metadata": {},
   "source": [
    "# Data Wrangling"
   ]
  },
  {
   "cell_type": "markdown",
   "id": "1c7a80c0",
   "metadata": {},
   "source": [
    "### remove sizes"
   ]
  },
  {
   "cell_type": "code",
   "execution_count": 10,
   "id": "02caa7ca",
   "metadata": {},
   "outputs": [
    {
     "data": {
      "text/plain": [
       "array(['Jamaican Coffee River Sm', 'Jamaican Coffee River Rg',\n",
       "       'Jamaican Coffee River Lg', 'Jamacian Coffee River'], dtype=object)"
      ]
     },
     "execution_count": 10,
     "metadata": {},
     "output_type": "execute_result"
    }
   ],
   "source": [
    "df[df['product'].str.contains('Coffee')]['product'].unique()"
   ]
  },
  {
   "cell_type": "markdown",
   "id": "581a17a5",
   "metadata": {},
   "source": [
    "contains size Sm, Lg, Rg\n",
    "need to be removed"
   ]
  },
  {
   "cell_type": "code",
   "execution_count": 11,
   "id": "c4adfcc4",
   "metadata": {},
   "outputs": [
    {
     "data": {
      "text/plain": [
       "80"
      ]
     },
     "execution_count": 11,
     "metadata": {},
     "output_type": "execute_result"
    }
   ],
   "source": [
    "df['product'].nunique()"
   ]
  },
  {
   "cell_type": "code",
   "execution_count": 12,
   "id": "e7783374",
   "metadata": {},
   "outputs": [],
   "source": [
    "df['product'] = \\\n",
    "df['product']\\\n",
    ".str.replace(\" Sm\", \"\")\\\n",
    ".str.replace(\" Lg\", \"\")\\\n",
    ".str.replace(\" Rg\", \"\")"
   ]
  },
  {
   "cell_type": "code",
   "execution_count": 13,
   "id": "c2af94c6",
   "metadata": {},
   "outputs": [
    {
     "data": {
      "text/plain": [
       "45"
      ]
     },
     "execution_count": 13,
     "metadata": {},
     "output_type": "execute_result"
    }
   ],
   "source": [
    "df['product'].nunique()"
   ]
  },
  {
   "cell_type": "markdown",
   "id": "afd58cb9",
   "metadata": {},
   "source": [
    "nunique before: 80\\\n",
    "nunique after: 45"
   ]
  },
  {
   "cell_type": "markdown",
   "id": "d3ca73ad",
   "metadata": {},
   "source": [
    "### choose products"
   ]
  },
  {
   "cell_type": "code",
   "execution_count": 36,
   "id": "fa6bcd24",
   "metadata": {},
   "outputs": [],
   "source": [
    "chosen_products = [\n",
    "    'Cappuccino', 'Latte', 'Espresso shot',\n",
    "    'Dark chocolate','Sugar Free Vanilla syrup', 'Chocolate syrup',\n",
    "    'Carmel syrup', 'Hazelnut syrup', 'Ginger Scone',\n",
    "    'Chocolate Croissant', 'Jumbo Savory Scone', 'Cranberry Scone', 'Hazelnut Biscotti',\n",
    "    'Croissant', 'Almond Croissant', 'Oatmeal Scone', 'Chocolate Chip Biscotti',\n",
    "    'Ginger Biscotti'\n",
    "]"
   ]
  },
  {
   "cell_type": "code",
   "execution_count": 37,
   "id": "59e23a5b",
   "metadata": {},
   "outputs": [],
   "source": [
    "df = df[df['product'].isin(chosen_products)]"
   ]
  },
  {
   "cell_type": "code",
   "execution_count": 38,
   "id": "a6c37fa1",
   "metadata": {},
   "outputs": [
    {
     "data": {
      "text/plain": [
       "18"
      ]
     },
     "execution_count": 38,
     "metadata": {},
     "output_type": "execute_result"
    }
   ],
   "source": [
    "df['product'].nunique()"
   ]
  },
  {
   "cell_type": "code",
   "execution_count": 46,
   "id": "2cc6785d",
   "metadata": {},
   "outputs": [
    {
     "data": {
      "text/plain": [
       "4"
      ]
     },
     "execution_count": 46,
     "metadata": {},
     "output_type": "execute_result"
    }
   ],
   "source": [
    "df.product_category.nunique()"
   ]
  },
  {
   "cell_type": "code",
   "execution_count": 45,
   "id": "94e1851f",
   "metadata": {},
   "outputs": [
    {
     "data": {
      "text/plain": [
       "(12137, 6)"
      ]
     },
     "execution_count": 45,
     "metadata": {},
     "output_type": "execute_result"
    }
   ],
   "source": [
    "df.shape"
   ]
  },
  {
   "cell_type": "code",
   "execution_count": 47,
   "id": "ec5de6c1",
   "metadata": {},
   "outputs": [
    {
     "data": {
      "image/png": "[encoded data removed]",
      "text/plain": [
       "<Figure size 1000x600 with 1 Axes>"
      ]
     },
     "metadata": {},
     "output_type": "display_data"
    }
   ],
   "source": [
    "plt.figure(figsize=(10, 6))\n",
    "sns.histplot(data=df, x='quantity', bins=5)\n",
    "plt.title('Distribution of Sales Quantity')\n",
    "plt.xlabel('Quantity')\n",
    "plt.ylabel('Count')\n",
    "plt.grid(True, alpha=0.3)"
   ]
  },
  {
   "cell_type": "code",
   "execution_count": 48,
   "id": "00ec6536",
   "metadata": {},
   "outputs": [
    {
     "data": {
      "image/png": "[encoded data removed]",
      "text/plain": [
       "<Figure size 1000x600 with 1 Axes>"
      ]
     },
     "metadata": {},
     "output_type": "display_data"
    }
   ],
   "source": [
    "plt.figure(figsize=(10, 6))\n",
    "df['product_category'].value_counts().plot(kind='bar')\n",
    "plt.title('Distribution of Product Categories')\n",
    "plt.xlabel('')\n",
    "plt.ylabel('Count')\n",
    "plt.xticks(rotation=45, ha='right')\n",
    "plt.tight_layout()\n",
    "plt.grid(True, alpha=0.3)"
   ]
  },
  {
   "cell_type": "markdown",
   "id": "7eb03067",
   "metadata": {},
   "source": [
    "# Remove Single-Item Transactions"
   ]
  },
  {
   "cell_type": "code",
   "execution_count": null,
   "id": "fcba0c3b",
   "metadata": {},
   "outputs": [],
   "source": [
    "df['transaction'] = df['transaction_id'].astype(str) + \"_\" + df['customer_id'].astype(str)"
   ]
  },
  {
   "cell_type": "code",
   "execution_count": 23,
   "id": "dfef5523",
   "metadata": {},
   "outputs": [],
   "source": [
    "df = df[df.groupby(\"transaction\")[\"transaction\"].transform(\"size\") > 1]"
   ]
  },
  {
   "cell_type": "code",
   "execution_count": 24,
   "id": "1b8e6aca",
   "metadata": {},
   "outputs": [
    {
     "data": {
      "text/plain": [
       "(10189, 7)"
      ]
     },
     "execution_count": 24,
     "metadata": {},
     "output_type": "execute_result"
    }
   ],
   "source": [
    "df.shape"
   ]
  },
  {
   "cell_type": "markdown",
   "id": "eb05138a",
   "metadata": {},
   "source": [
    "# Product Popularity"
   ]
  },
  {
   "cell_type": "code",
   "execution_count": 25,
   "id": "de81ad2e",
   "metadata": {},
   "outputs": [
    {
     "data": {
      "text/plain": [
       "product_category\n",
       "Bakery                3800\n",
       "Coffee                3174\n",
       "Flavours              2246\n",
       "Drinking Chocolate     947\n",
       "Packaged Chocolate      22\n",
       "Name: count, dtype: int64"
      ]
     },
     "execution_count": 25,
     "metadata": {},
     "output_type": "execute_result"
    }
   ],
   "source": [
    "df['product_category'].value_counts()"
   ]
  },
  {
   "cell_type": "code",
   "execution_count": 26,
   "id": "69eae7e9",
   "metadata": {},
   "outputs": [
    {
     "data": {
      "text/plain": [
       "product\n",
       "Cappuccino                  1290\n",
       "Latte                       1256\n",
       "Dark chocolate               969\n",
       "Chocolate Croissant          636\n",
       "Espresso shot                628\n",
       "Sugar Free Vanilla syrup     605\n",
       "Chocolate syrup              568\n",
       "Carmel syrup                 561\n",
       "Hazelnut syrup               512\n",
       "Ginger Scone                 417\n",
       "Jumbo Savory Scone           357\n",
       "Croissant                    355\n",
       "Chocolate Chip Biscotti      352\n",
       "Cranberry Scone              350\n",
       "Almond Croissant             347\n",
       "Hazelnut Biscotti            338\n",
       "Oatmeal Scone                334\n",
       "Ginger Biscotti              314\n",
       "Name: count, dtype: int64"
      ]
     },
     "execution_count": 26,
     "metadata": {},
     "output_type": "execute_result"
    }
   ],
   "source": [
    "df['product'].value_counts()"
   ]
  },
  {
   "cell_type": "markdown",
   "id": "7c591f46",
   "metadata": {},
   "source": [
    "# Popularity-Based Recommendation Engine"
   ]
  },
  {
   "cell_type": "code",
   "execution_count": 33,
   "id": "b0ee000f",
   "metadata": {},
   "outputs": [],
   "source": [
    "df.groupby(['product', 'product_category']).size().reset_index(name=\"number_of_transactions\").to_csv(\"../recommendation_objects/popularity_recommendation.csv\", index=False)"
   ]
  },
  {
   "cell_type": "markdown",
   "id": "b54ebb9c",
   "metadata": {},
   "source": [
    "# Apriori Recommendation Engine"
   ]
  },
  {
   "cell_type": "code",
   "execution_count": 38,
   "id": "a1f24bf6",
   "metadata": {},
   "outputs": [],
   "source": [
    "train_basket = df.groupby(['transaction', 'product']).size().reset_index(name=\"count\")"
   ]
  },
  {
   "cell_type": "code",
   "execution_count": 39,
   "id": "a47c8c97",
   "metadata": {},
   "outputs": [
    {
     "data": {
      "text/html": [
       "<div>\n",
       "<style scoped>\n",
       "    .dataframe tbody tr th:only-of-type {\n",
       "        vertical-align: middle;\n",
       "    }\n",
       "\n",
       "    .dataframe tbody tr th {\n",
       "        vertical-align: top;\n",
       "    }\n",
       "\n",
       "    .dataframe thead th {\n",
       "        text-align: right;\n",
       "    }\n",
       "</style>\n",
       "<table border=\"1\" class=\"dataframe\">\n",
       "  <thead>\n",
       "    <tr style=\"text-align: right;\">\n",
       "      <th></th>\n",
       "      <th>transaction</th>\n",
       "      <th>product</th>\n",
       "      <th>count</th>\n",
       "    </tr>\n",
       "  </thead>\n",
       "  <tbody>\n",
       "    <tr>\n",
       "      <th>0</th>\n",
       "      <td>1000_0</td>\n",
       "      <td>Dark chocolate</td>\n",
       "      <td>1</td>\n",
       "    </tr>\n",
       "    <tr>\n",
       "      <th>1</th>\n",
       "      <td>1000_0</td>\n",
       "      <td>Oatmeal Scone</td>\n",
       "      <td>1</td>\n",
       "    </tr>\n",
       "    <tr>\n",
       "      <th>2</th>\n",
       "      <td>1001_8306</td>\n",
       "      <td>Cappuccino</td>\n",
       "      <td>1</td>\n",
       "    </tr>\n",
       "    <tr>\n",
       "      <th>3</th>\n",
       "      <td>1001_8306</td>\n",
       "      <td>Carmel syrup</td>\n",
       "      <td>1</td>\n",
       "    </tr>\n",
       "    <tr>\n",
       "      <th>4</th>\n",
       "      <td>1002_0</td>\n",
       "      <td>Carmel syrup</td>\n",
       "      <td>1</td>\n",
       "    </tr>\n",
       "    <tr>\n",
       "      <th>...</th>\n",
       "      <td>...</td>\n",
       "      <td>...</td>\n",
       "      <td>...</td>\n",
       "    </tr>\n",
       "    <tr>\n",
       "      <th>8391</th>\n",
       "      <td>9_0</td>\n",
       "      <td>Croissant</td>\n",
       "      <td>1</td>\n",
       "    </tr>\n",
       "    <tr>\n",
       "      <th>8392</th>\n",
       "      <td>9_0</td>\n",
       "      <td>Dark chocolate</td>\n",
       "      <td>3</td>\n",
       "    </tr>\n",
       "    <tr>\n",
       "      <th>8393</th>\n",
       "      <td>9_0</td>\n",
       "      <td>Ginger Scone</td>\n",
       "      <td>2</td>\n",
       "    </tr>\n",
       "    <tr>\n",
       "      <th>8394</th>\n",
       "      <td>9_0</td>\n",
       "      <td>Latte</td>\n",
       "      <td>3</td>\n",
       "    </tr>\n",
       "    <tr>\n",
       "      <th>8395</th>\n",
       "      <td>9_0</td>\n",
       "      <td>Sugar Free Vanilla syrup</td>\n",
       "      <td>1</td>\n",
       "    </tr>\n",
       "  </tbody>\n",
       "</table>\n",
       "<p>8396 rows × 3 columns</p>\n",
       "</div>"
      ],
      "text/plain": [
       "     transaction                   product  count\n",
       "0         1000_0            Dark chocolate      1\n",
       "1         1000_0             Oatmeal Scone      1\n",
       "2      1001_8306                Cappuccino      1\n",
       "3      1001_8306              Carmel syrup      1\n",
       "4         1002_0              Carmel syrup      1\n",
       "...          ...                       ...    ...\n",
       "8391         9_0                 Croissant      1\n",
       "8392         9_0            Dark chocolate      3\n",
       "8393         9_0              Ginger Scone      2\n",
       "8394         9_0                     Latte      3\n",
       "8395         9_0  Sugar Free Vanilla syrup      1\n",
       "\n",
       "[8396 rows x 3 columns]"
      ]
     },
     "execution_count": 39,
     "metadata": {},
     "output_type": "execute_result"
    }
   ],
   "source": [
    "train_basket"
   ]
  },
  {
   "cell_type": "code",
   "execution_count": 41,
   "id": "410a6ea9",
   "metadata": {},
   "outputs": [],
   "source": [
    "train_basket['count'] = train_basket['count'].clip(upper=1)"
   ]
  },
  {
   "cell_type": "code",
   "execution_count": 46,
   "id": "5afe2c51",
   "metadata": {},
   "outputs": [
    {
     "data": {
      "text/html": [
       "<div>\n",
       "<style scoped>\n",
       "    .dataframe tbody tr th:only-of-type {\n",
       "        vertical-align: middle;\n",
       "    }\n",
       "\n",
       "    .dataframe tbody tr th {\n",
       "        vertical-align: top;\n",
       "    }\n",
       "\n",
       "    .dataframe thead th {\n",
       "        text-align: right;\n",
       "    }\n",
       "</style>\n",
       "<table border=\"1\" class=\"dataframe\">\n",
       "  <thead>\n",
       "    <tr style=\"text-align: right;\">\n",
       "      <th>product</th>\n",
       "      <th>Almond Croissant</th>\n",
       "      <th>Cappuccino</th>\n",
       "      <th>Carmel syrup</th>\n",
       "      <th>Chocolate Chip Biscotti</th>\n",
       "      <th>Chocolate Croissant</th>\n",
       "      <th>Chocolate syrup</th>\n",
       "      <th>Cranberry Scone</th>\n",
       "      <th>Croissant</th>\n",
       "      <th>Dark chocolate</th>\n",
       "      <th>Espresso shot</th>\n",
       "      <th>Ginger Biscotti</th>\n",
       "      <th>Ginger Scone</th>\n",
       "      <th>Hazelnut Biscotti</th>\n",
       "      <th>Hazelnut syrup</th>\n",
       "      <th>Jumbo Savory Scone</th>\n",
       "      <th>Latte</th>\n",
       "      <th>Oatmeal Scone</th>\n",
       "      <th>Sugar Free Vanilla syrup</th>\n",
       "    </tr>\n",
       "    <tr>\n",
       "      <th>transaction</th>\n",
       "      <th></th>\n",
       "      <th></th>\n",
       "      <th></th>\n",
       "      <th></th>\n",
       "      <th></th>\n",
       "      <th></th>\n",
       "      <th></th>\n",
       "      <th></th>\n",
       "      <th></th>\n",
       "      <th></th>\n",
       "      <th></th>\n",
       "      <th></th>\n",
       "      <th></th>\n",
       "      <th></th>\n",
       "      <th></th>\n",
       "      <th></th>\n",
       "      <th></th>\n",
       "      <th></th>\n",
       "    </tr>\n",
       "  </thead>\n",
       "  <tbody>\n",
       "    <tr>\n",
       "      <th>1000_0</th>\n",
       "      <td>0.0</td>\n",
       "      <td>0.0</td>\n",
       "      <td>0.0</td>\n",
       "      <td>0.0</td>\n",
       "      <td>0.0</td>\n",
       "      <td>0.0</td>\n",
       "      <td>0.0</td>\n",
       "      <td>0.0</td>\n",
       "      <td>1.0</td>\n",
       "      <td>0.0</td>\n",
       "      <td>0.0</td>\n",
       "      <td>0.0</td>\n",
       "      <td>0.0</td>\n",
       "      <td>0.0</td>\n",
       "      <td>0.0</td>\n",
       "      <td>0.0</td>\n",
       "      <td>1.0</td>\n",
       "      <td>0.0</td>\n",
       "    </tr>\n",
       "    <tr>\n",
       "      <th>1001_8306</th>\n",
       "      <td>0.0</td>\n",
       "      <td>1.0</td>\n",
       "      <td>1.0</td>\n",
       "      <td>0.0</td>\n",
       "      <td>0.0</td>\n",
       "      <td>0.0</td>\n",
       "      <td>0.0</td>\n",
       "      <td>0.0</td>\n",
       "      <td>0.0</td>\n",
       "      <td>0.0</td>\n",
       "      <td>0.0</td>\n",
       "      <td>0.0</td>\n",
       "      <td>0.0</td>\n",
       "      <td>0.0</td>\n",
       "      <td>0.0</td>\n",
       "      <td>0.0</td>\n",
       "      <td>0.0</td>\n",
       "      <td>0.0</td>\n",
       "    </tr>\n",
       "    <tr>\n",
       "      <th>1002_0</th>\n",
       "      <td>0.0</td>\n",
       "      <td>0.0</td>\n",
       "      <td>1.0</td>\n",
       "      <td>0.0</td>\n",
       "      <td>0.0</td>\n",
       "      <td>0.0</td>\n",
       "      <td>0.0</td>\n",
       "      <td>0.0</td>\n",
       "      <td>1.0</td>\n",
       "      <td>1.0</td>\n",
       "      <td>0.0</td>\n",
       "      <td>1.0</td>\n",
       "      <td>0.0</td>\n",
       "      <td>0.0</td>\n",
       "      <td>0.0</td>\n",
       "      <td>0.0</td>\n",
       "      <td>0.0</td>\n",
       "      <td>0.0</td>\n",
       "    </tr>\n",
       "    <tr>\n",
       "      <th>1004_5383</th>\n",
       "      <td>0.0</td>\n",
       "      <td>0.0</td>\n",
       "      <td>0.0</td>\n",
       "      <td>0.0</td>\n",
       "      <td>0.0</td>\n",
       "      <td>1.0</td>\n",
       "      <td>0.0</td>\n",
       "      <td>0.0</td>\n",
       "      <td>0.0</td>\n",
       "      <td>0.0</td>\n",
       "      <td>0.0</td>\n",
       "      <td>0.0</td>\n",
       "      <td>0.0</td>\n",
       "      <td>0.0</td>\n",
       "      <td>0.0</td>\n",
       "      <td>1.0</td>\n",
       "      <td>0.0</td>\n",
       "      <td>0.0</td>\n",
       "    </tr>\n",
       "    <tr>\n",
       "      <th>1005_0</th>\n",
       "      <td>0.0</td>\n",
       "      <td>0.0</td>\n",
       "      <td>0.0</td>\n",
       "      <td>0.0</td>\n",
       "      <td>0.0</td>\n",
       "      <td>0.0</td>\n",
       "      <td>0.0</td>\n",
       "      <td>0.0</td>\n",
       "      <td>0.0</td>\n",
       "      <td>0.0</td>\n",
       "      <td>0.0</td>\n",
       "      <td>0.0</td>\n",
       "      <td>0.0</td>\n",
       "      <td>0.0</td>\n",
       "      <td>1.0</td>\n",
       "      <td>1.0</td>\n",
       "      <td>0.0</td>\n",
       "      <td>0.0</td>\n",
       "    </tr>\n",
       "    <tr>\n",
       "      <th>...</th>\n",
       "      <td>...</td>\n",
       "      <td>...</td>\n",
       "      <td>...</td>\n",
       "      <td>...</td>\n",
       "      <td>...</td>\n",
       "      <td>...</td>\n",
       "      <td>...</td>\n",
       "      <td>...</td>\n",
       "      <td>...</td>\n",
       "      <td>...</td>\n",
       "      <td>...</td>\n",
       "      <td>...</td>\n",
       "      <td>...</td>\n",
       "      <td>...</td>\n",
       "      <td>...</td>\n",
       "      <td>...</td>\n",
       "      <td>...</td>\n",
       "      <td>...</td>\n",
       "    </tr>\n",
       "    <tr>\n",
       "      <th>998_5530</th>\n",
       "      <td>0.0</td>\n",
       "      <td>1.0</td>\n",
       "      <td>0.0</td>\n",
       "      <td>0.0</td>\n",
       "      <td>0.0</td>\n",
       "      <td>1.0</td>\n",
       "      <td>0.0</td>\n",
       "      <td>0.0</td>\n",
       "      <td>0.0</td>\n",
       "      <td>0.0</td>\n",
       "      <td>0.0</td>\n",
       "      <td>0.0</td>\n",
       "      <td>0.0</td>\n",
       "      <td>0.0</td>\n",
       "      <td>0.0</td>\n",
       "      <td>0.0</td>\n",
       "      <td>0.0</td>\n",
       "      <td>0.0</td>\n",
       "    </tr>\n",
       "    <tr>\n",
       "      <th>998_5793</th>\n",
       "      <td>0.0</td>\n",
       "      <td>0.0</td>\n",
       "      <td>1.0</td>\n",
       "      <td>0.0</td>\n",
       "      <td>0.0</td>\n",
       "      <td>0.0</td>\n",
       "      <td>0.0</td>\n",
       "      <td>0.0</td>\n",
       "      <td>0.0</td>\n",
       "      <td>0.0</td>\n",
       "      <td>0.0</td>\n",
       "      <td>0.0</td>\n",
       "      <td>0.0</td>\n",
       "      <td>0.0</td>\n",
       "      <td>0.0</td>\n",
       "      <td>1.0</td>\n",
       "      <td>1.0</td>\n",
       "      <td>0.0</td>\n",
       "    </tr>\n",
       "    <tr>\n",
       "      <th>998_601</th>\n",
       "      <td>0.0</td>\n",
       "      <td>0.0</td>\n",
       "      <td>0.0</td>\n",
       "      <td>0.0</td>\n",
       "      <td>0.0</td>\n",
       "      <td>1.0</td>\n",
       "      <td>0.0</td>\n",
       "      <td>0.0</td>\n",
       "      <td>0.0</td>\n",
       "      <td>0.0</td>\n",
       "      <td>0.0</td>\n",
       "      <td>0.0</td>\n",
       "      <td>0.0</td>\n",
       "      <td>0.0</td>\n",
       "      <td>0.0</td>\n",
       "      <td>1.0</td>\n",
       "      <td>0.0</td>\n",
       "      <td>0.0</td>\n",
       "    </tr>\n",
       "    <tr>\n",
       "      <th>99_0</th>\n",
       "      <td>0.0</td>\n",
       "      <td>1.0</td>\n",
       "      <td>1.0</td>\n",
       "      <td>0.0</td>\n",
       "      <td>0.0</td>\n",
       "      <td>0.0</td>\n",
       "      <td>0.0</td>\n",
       "      <td>0.0</td>\n",
       "      <td>0.0</td>\n",
       "      <td>0.0</td>\n",
       "      <td>1.0</td>\n",
       "      <td>0.0</td>\n",
       "      <td>0.0</td>\n",
       "      <td>0.0</td>\n",
       "      <td>0.0</td>\n",
       "      <td>1.0</td>\n",
       "      <td>0.0</td>\n",
       "      <td>1.0</td>\n",
       "    </tr>\n",
       "    <tr>\n",
       "      <th>9_0</th>\n",
       "      <td>0.0</td>\n",
       "      <td>1.0</td>\n",
       "      <td>1.0</td>\n",
       "      <td>0.0</td>\n",
       "      <td>1.0</td>\n",
       "      <td>1.0</td>\n",
       "      <td>0.0</td>\n",
       "      <td>1.0</td>\n",
       "      <td>1.0</td>\n",
       "      <td>0.0</td>\n",
       "      <td>0.0</td>\n",
       "      <td>1.0</td>\n",
       "      <td>0.0</td>\n",
       "      <td>0.0</td>\n",
       "      <td>0.0</td>\n",
       "      <td>1.0</td>\n",
       "      <td>0.0</td>\n",
       "      <td>1.0</td>\n",
       "    </tr>\n",
       "  </tbody>\n",
       "</table>\n",
       "<p>2646 rows × 18 columns</p>\n",
       "</div>"
      ],
      "text/plain": [
       "product      Almond Croissant  Cappuccino  Carmel syrup  \\\n",
       "transaction                                               \n",
       "1000_0                    0.0         0.0           0.0   \n",
       "1001_8306                 0.0         1.0           1.0   \n",
       "1002_0                    0.0         0.0           1.0   \n",
       "1004_5383                 0.0         0.0           0.0   \n",
       "1005_0                    0.0         0.0           0.0   \n",
       "...                       ...         ...           ...   \n",
       "998_5530                  0.0         1.0           0.0   \n",
       "998_5793                  0.0         0.0           1.0   \n",
       "998_601                   0.0         0.0           0.0   \n",
       "99_0                      0.0         1.0           1.0   \n",
       "9_0                       0.0         1.0           1.0   \n",
       "\n",
       "product      Chocolate Chip Biscotti  Chocolate Croissant  Chocolate syrup  \\\n",
       "transaction                                                                  \n",
       "1000_0                           0.0                  0.0              0.0   \n",
       "1001_8306                        0.0                  0.0              0.0   \n",
       "1002_0                           0.0                  0.0              0.0   \n",
       "1004_5383                        0.0                  0.0              1.0   \n",
       "1005_0                           0.0                  0.0              0.0   \n",
       "...                              ...                  ...              ...   \n",
       "998_5530                         0.0                  0.0              1.0   \n",
       "998_5793                         0.0                  0.0              0.0   \n",
       "998_601                          0.0                  0.0              1.0   \n",
       "99_0                             0.0                  0.0              0.0   \n",
       "9_0                              0.0                  1.0              1.0   \n",
       "\n",
       "product      Cranberry Scone  Croissant  Dark chocolate  Espresso shot  \\\n",
       "transaction                                                              \n",
       "1000_0                   0.0        0.0             1.0            0.0   \n",
       "1001_8306                0.0        0.0             0.0            0.0   \n",
       "1002_0                   0.0        0.0             1.0            1.0   \n",
       "1004_5383                0.0        0.0             0.0            0.0   \n",
       "1005_0                   0.0        0.0             0.0            0.0   \n",
       "...                      ...        ...             ...            ...   \n",
       "998_5530                 0.0        0.0             0.0            0.0   \n",
       "998_5793                 0.0        0.0             0.0            0.0   \n",
       "998_601                  0.0        0.0             0.0            0.0   \n",
       "99_0                     0.0        0.0             0.0            0.0   \n",
       "9_0                      0.0        1.0             1.0            0.0   \n",
       "\n",
       "product      Ginger Biscotti  Ginger Scone  Hazelnut Biscotti  Hazelnut syrup  \\\n",
       "transaction                                                                     \n",
       "1000_0                   0.0           0.0                0.0             0.0   \n",
       "1001_8306                0.0           0.0                0.0             0.0   \n",
       "1002_0                   0.0           1.0                0.0             0.0   \n",
       "1004_5383                0.0           0.0                0.0             0.0   \n",
       "1005_0                   0.0           0.0                0.0             0.0   \n",
       "...                      ...           ...                ...             ...   \n",
       "998_5530                 0.0           0.0                0.0             0.0   \n",
       "998_5793                 0.0           0.0                0.0             0.0   \n",
       "998_601                  0.0           0.0                0.0             0.0   \n",
       "99_0                     1.0           0.0                0.0             0.0   \n",
       "9_0                      0.0           1.0                0.0             0.0   \n",
       "\n",
       "product      Jumbo Savory Scone  Latte  Oatmeal Scone  \\\n",
       "transaction                                             \n",
       "1000_0                      0.0    0.0            1.0   \n",
       "1001_8306                   0.0    0.0            0.0   \n",
       "1002_0                      0.0    0.0            0.0   \n",
       "1004_5383                   0.0    1.0            0.0   \n",
       "1005_0                      1.0    1.0            0.0   \n",
       "...                         ...    ...            ...   \n",
       "998_5530                    0.0    0.0            0.0   \n",
       "998_5793                    0.0    1.0            1.0   \n",
       "998_601                     0.0    1.0            0.0   \n",
       "99_0                        0.0    1.0            0.0   \n",
       "9_0                         0.0    1.0            0.0   \n",
       "\n",
       "product      Sugar Free Vanilla syrup  \n",
       "transaction                            \n",
       "1000_0                            0.0  \n",
       "1001_8306                         0.0  \n",
       "1002_0                            0.0  \n",
       "1004_5383                         0.0  \n",
       "1005_0                            0.0  \n",
       "...                               ...  \n",
       "998_5530                          0.0  \n",
       "998_5793                          0.0  \n",
       "998_601                           0.0  \n",
       "99_0                              1.0  \n",
       "9_0                               1.0  \n",
       "\n",
       "[2646 rows x 18 columns]"
      ]
     },
     "execution_count": 46,
     "metadata": {},
     "output_type": "execute_result"
    }
   ],
   "source": [
    "train_basket = train_basket.pivot_table('count', 'transaction', 'product').fillna(0)\n",
    "train_basket"
   ]
  },
  {
   "cell_type": "code",
   "execution_count": 47,
   "id": "df60430e",
   "metadata": {},
   "outputs": [],
   "source": [
    "from mlxtend.frequent_patterns import association_rules, apriori"
   ]
  },
  {
   "cell_type": "code",
   "execution_count": null,
   "id": "f6562bbb",
   "metadata": {},
   "outputs": [
    {
     "name": "stderr",
     "output_type": "stream",
     "text": [
      "/opt/anaconda3/envs/coffeeshop/lib/python3.10/site-packages/mlxtend/frequent_patterns/fpcommon.py:109: DeprecationWarning: DataFrames with non-bool types result in worse computationalperformance and their support might be discontinued in the future.Please use a DataFrame with bool type\n",
      "  warnings.warn(\n"
     ]
    },
    {
     "data": {
      "text/html": [
       "<div>\n",
       "<style scoped>\n",
       "    .dataframe tbody tr th:only-of-type {\n",
       "        vertical-align: middle;\n",
       "    }\n",
       "\n",
       "    .dataframe tbody tr th {\n",
       "        vertical-align: top;\n",
       "    }\n",
       "\n",
       "    .dataframe thead th {\n",
       "        text-align: right;\n",
       "    }\n",
       "</style>\n",
       "<table border=\"1\" class=\"dataframe\">\n",
       "  <thead>\n",
       "    <tr style=\"text-align: right;\">\n",
       "      <th></th>\n",
       "      <th>support</th>\n",
       "      <th>itemsets</th>\n",
       "    </tr>\n",
       "  </thead>\n",
       "  <tbody>\n",
       "    <tr>\n",
       "      <th>0</th>\n",
       "      <td>0.115646</td>\n",
       "      <td>(Almond Croissant)</td>\n",
       "    </tr>\n",
       "    <tr>\n",
       "      <th>1</th>\n",
       "      <td>0.388889</td>\n",
       "      <td>(Cappuccino)</td>\n",
       "    </tr>\n",
       "    <tr>\n",
       "      <th>2</th>\n",
       "      <td>0.191232</td>\n",
       "      <td>(Carmel syrup)</td>\n",
       "    </tr>\n",
       "    <tr>\n",
       "      <th>3</th>\n",
       "      <td>0.112623</td>\n",
       "      <td>(Chocolate Chip Biscotti)</td>\n",
       "    </tr>\n",
       "    <tr>\n",
       "      <th>4</th>\n",
       "      <td>0.135676</td>\n",
       "      <td>(Chocolate Croissant)</td>\n",
       "    </tr>\n",
       "  </tbody>\n",
       "</table>\n",
       "</div>"
      ],
      "text/plain": [
       "    support                   itemsets\n",
       "0  0.115646         (Almond Croissant)\n",
       "1  0.388889               (Cappuccino)\n",
       "2  0.191232             (Carmel syrup)\n",
       "3  0.112623  (Chocolate Chip Biscotti)\n",
       "4  0.135676      (Chocolate Croissant)"
      ]
     },
     "execution_count": 48,
     "metadata": {},
     "output_type": "execute_result"
    }
   ],
   "source": [
    "frequent_items = apriori(train_basket, min_support = 0.05, use_colnames = True)\n",
    "frequent_items.head()"
   ]
  },
  {
   "cell_type": "code",
   "execution_count": 50,
   "id": "2bea30a2",
   "metadata": {},
   "outputs": [
    {
     "data": {
      "text/html": [
       "<div>\n",
       "<style scoped>\n",
       "    .dataframe tbody tr th:only-of-type {\n",
       "        vertical-align: middle;\n",
       "    }\n",
       "\n",
       "    .dataframe tbody tr th {\n",
       "        vertical-align: top;\n",
       "    }\n",
       "\n",
       "    .dataframe thead th {\n",
       "        text-align: right;\n",
       "    }\n",
       "</style>\n",
       "<table border=\"1\" class=\"dataframe\">\n",
       "  <thead>\n",
       "    <tr style=\"text-align: right;\">\n",
       "      <th></th>\n",
       "      <th>antecedents</th>\n",
       "      <th>consequents</th>\n",
       "      <th>antecedent support</th>\n",
       "      <th>consequent support</th>\n",
       "      <th>support</th>\n",
       "      <th>confidence</th>\n",
       "      <th>lift</th>\n",
       "      <th>leverage</th>\n",
       "      <th>conviction</th>\n",
       "      <th>zhangs_metric</th>\n",
       "    </tr>\n",
       "  </thead>\n",
       "  <tbody>\n",
       "    <tr>\n",
       "      <th>0</th>\n",
       "      <td>(Almond Croissant)</td>\n",
       "      <td>(Cappuccino)</td>\n",
       "      <td>0.115646</td>\n",
       "      <td>0.388889</td>\n",
       "      <td>0.053288</td>\n",
       "      <td>0.460784</td>\n",
       "      <td>1.184874</td>\n",
       "      <td>0.008314</td>\n",
       "      <td>1.133333</td>\n",
       "      <td>0.176432</td>\n",
       "    </tr>\n",
       "    <tr>\n",
       "      <th>1</th>\n",
       "      <td>(Cappuccino)</td>\n",
       "      <td>(Almond Croissant)</td>\n",
       "      <td>0.388889</td>\n",
       "      <td>0.115646</td>\n",
       "      <td>0.053288</td>\n",
       "      <td>0.137026</td>\n",
       "      <td>1.184874</td>\n",
       "      <td>0.008314</td>\n",
       "      <td>1.024775</td>\n",
       "      <td>0.255319</td>\n",
       "    </tr>\n",
       "    <tr>\n",
       "      <th>2</th>\n",
       "      <td>(Almond Croissant)</td>\n",
       "      <td>(Dark chocolate)</td>\n",
       "      <td>0.115646</td>\n",
       "      <td>0.277022</td>\n",
       "      <td>0.057445</td>\n",
       "      <td>0.496732</td>\n",
       "      <td>1.793115</td>\n",
       "      <td>0.025409</td>\n",
       "      <td>1.436567</td>\n",
       "      <td>0.500152</td>\n",
       "    </tr>\n",
       "    <tr>\n",
       "      <th>3</th>\n",
       "      <td>(Dark chocolate)</td>\n",
       "      <td>(Almond Croissant)</td>\n",
       "      <td>0.277022</td>\n",
       "      <td>0.115646</td>\n",
       "      <td>0.057445</td>\n",
       "      <td>0.207367</td>\n",
       "      <td>1.793115</td>\n",
       "      <td>0.025409</td>\n",
       "      <td>1.115717</td>\n",
       "      <td>0.611791</td>\n",
       "    </tr>\n",
       "    <tr>\n",
       "      <th>4</th>\n",
       "      <td>(Almond Croissant)</td>\n",
       "      <td>(Latte)</td>\n",
       "      <td>0.115646</td>\n",
       "      <td>0.382086</td>\n",
       "      <td>0.054422</td>\n",
       "      <td>0.470588</td>\n",
       "      <td>1.231629</td>\n",
       "      <td>0.010235</td>\n",
       "      <td>1.167171</td>\n",
       "      <td>0.212660</td>\n",
       "    </tr>\n",
       "  </tbody>\n",
       "</table>\n",
       "</div>"
      ],
      "text/plain": [
       "          antecedents         consequents  antecedent support  \\\n",
       "0  (Almond Croissant)        (Cappuccino)            0.115646   \n",
       "1        (Cappuccino)  (Almond Croissant)            0.388889   \n",
       "2  (Almond Croissant)    (Dark chocolate)            0.115646   \n",
       "3    (Dark chocolate)  (Almond Croissant)            0.277022   \n",
       "4  (Almond Croissant)             (Latte)            0.115646   \n",
       "\n",
       "   consequent support   support  confidence      lift  leverage  conviction  \\\n",
       "0            0.388889  0.053288    0.460784  1.184874  0.008314    1.133333   \n",
       "1            0.115646  0.053288    0.137026  1.184874  0.008314    1.024775   \n",
       "2            0.277022  0.057445    0.496732  1.793115  0.025409    1.436567   \n",
       "3            0.115646  0.057445    0.207367  1.793115  0.025409    1.115717   \n",
       "4            0.382086  0.054422    0.470588  1.231629  0.010235    1.167171   \n",
       "\n",
       "   zhangs_metric  \n",
       "0       0.176432  \n",
       "1       0.255319  \n",
       "2       0.500152  \n",
       "3       0.611791  \n",
       "4       0.212660  "
      ]
     },
     "execution_count": 50,
     "metadata": {},
     "output_type": "execute_result"
    }
   ],
   "source": [
    "rules_basket = association_rules(frequent_items, metric = \"lift\", min_threshold = 1)\n",
    "rules_basket.head()"
   ]
  },
  {
   "cell_type": "markdown",
   "id": "f695d158",
   "metadata": {},
   "source": [
    "### get example recommendation from rules basket"
   ]
  },
  {
   "cell_type": "code",
   "execution_count": 51,
   "id": "33ba5e92",
   "metadata": {},
   "outputs": [
    {
     "data": {
      "text/html": [
       "<div>\n",
       "<style scoped>\n",
       "    .dataframe tbody tr th:only-of-type {\n",
       "        vertical-align: middle;\n",
       "    }\n",
       "\n",
       "    .dataframe tbody tr th {\n",
       "        vertical-align: top;\n",
       "    }\n",
       "\n",
       "    .dataframe thead th {\n",
       "        text-align: right;\n",
       "    }\n",
       "</style>\n",
       "<table border=\"1\" class=\"dataframe\">\n",
       "  <thead>\n",
       "    <tr style=\"text-align: right;\">\n",
       "      <th></th>\n",
       "      <th>antecedents</th>\n",
       "      <th>consequents</th>\n",
       "      <th>antecedent support</th>\n",
       "      <th>consequent support</th>\n",
       "      <th>support</th>\n",
       "      <th>confidence</th>\n",
       "      <th>lift</th>\n",
       "      <th>leverage</th>\n",
       "      <th>conviction</th>\n",
       "      <th>zhangs_metric</th>\n",
       "    </tr>\n",
       "  </thead>\n",
       "  <tbody>\n",
       "    <tr>\n",
       "      <th>26</th>\n",
       "      <td>(Cappuccino)</td>\n",
       "      <td>(Sugar Free Vanilla syrup)</td>\n",
       "      <td>0.388889</td>\n",
       "      <td>0.200302</td>\n",
       "      <td>0.113001</td>\n",
       "      <td>0.290573</td>\n",
       "      <td>1.450674</td>\n",
       "      <td>0.035105</td>\n",
       "      <td>1.127245</td>\n",
       "      <td>0.508361</td>\n",
       "    </tr>\n",
       "    <tr>\n",
       "      <th>12</th>\n",
       "      <td>(Cappuccino)</td>\n",
       "      <td>(Chocolate syrup)</td>\n",
       "      <td>0.388889</td>\n",
       "      <td>0.188964</td>\n",
       "      <td>0.109599</td>\n",
       "      <td>0.281827</td>\n",
       "      <td>1.491429</td>\n",
       "      <td>0.036113</td>\n",
       "      <td>1.129304</td>\n",
       "      <td>0.539185</td>\n",
       "    </tr>\n",
       "    <tr>\n",
       "      <th>6</th>\n",
       "      <td>(Cappuccino)</td>\n",
       "      <td>(Carmel syrup)</td>\n",
       "      <td>0.388889</td>\n",
       "      <td>0.191232</td>\n",
       "      <td>0.102797</td>\n",
       "      <td>0.264334</td>\n",
       "      <td>1.382270</td>\n",
       "      <td>0.028429</td>\n",
       "      <td>1.099369</td>\n",
       "      <td>0.452540</td>\n",
       "    </tr>\n",
       "    <tr>\n",
       "      <th>22</th>\n",
       "      <td>(Cappuccino)</td>\n",
       "      <td>(Hazelnut syrup)</td>\n",
       "      <td>0.388889</td>\n",
       "      <td>0.171580</td>\n",
       "      <td>0.090325</td>\n",
       "      <td>0.232264</td>\n",
       "      <td>1.353682</td>\n",
       "      <td>0.023600</td>\n",
       "      <td>1.079044</td>\n",
       "      <td>0.427539</td>\n",
       "    </tr>\n",
       "    <tr>\n",
       "      <th>20</th>\n",
       "      <td>(Cappuccino)</td>\n",
       "      <td>(Ginger Scone)</td>\n",
       "      <td>0.388889</td>\n",
       "      <td>0.133409</td>\n",
       "      <td>0.059713</td>\n",
       "      <td>0.153547</td>\n",
       "      <td>1.150951</td>\n",
       "      <td>0.007832</td>\n",
       "      <td>1.023791</td>\n",
       "      <td>0.214614</td>\n",
       "    </tr>\n",
       "    <tr>\n",
       "      <th>8</th>\n",
       "      <td>(Cappuccino)</td>\n",
       "      <td>(Chocolate Chip Biscotti)</td>\n",
       "      <td>0.388889</td>\n",
       "      <td>0.112623</td>\n",
       "      <td>0.056311</td>\n",
       "      <td>0.144801</td>\n",
       "      <td>1.285714</td>\n",
       "      <td>0.012514</td>\n",
       "      <td>1.037626</td>\n",
       "      <td>0.363636</td>\n",
       "    </tr>\n",
       "    <tr>\n",
       "      <th>10</th>\n",
       "      <td>(Cappuccino)</td>\n",
       "      <td>(Chocolate Croissant)</td>\n",
       "      <td>0.388889</td>\n",
       "      <td>0.135676</td>\n",
       "      <td>0.056311</td>\n",
       "      <td>0.144801</td>\n",
       "      <td>1.067250</td>\n",
       "      <td>0.003548</td>\n",
       "      <td>1.010669</td>\n",
       "      <td>0.103112</td>\n",
       "    </tr>\n",
       "    <tr>\n",
       "      <th>16</th>\n",
       "      <td>(Cappuccino)</td>\n",
       "      <td>(Croissant)</td>\n",
       "      <td>0.388889</td>\n",
       "      <td>0.114135</td>\n",
       "      <td>0.056311</td>\n",
       "      <td>0.144801</td>\n",
       "      <td>1.268685</td>\n",
       "      <td>0.011926</td>\n",
       "      <td>1.035859</td>\n",
       "      <td>0.346553</td>\n",
       "    </tr>\n",
       "    <tr>\n",
       "      <th>24</th>\n",
       "      <td>(Cappuccino)</td>\n",
       "      <td>(Jumbo Savory Scone)</td>\n",
       "      <td>0.388889</td>\n",
       "      <td>0.114890</td>\n",
       "      <td>0.055178</td>\n",
       "      <td>0.141885</td>\n",
       "      <td>1.234962</td>\n",
       "      <td>0.010498</td>\n",
       "      <td>1.031458</td>\n",
       "      <td>0.311333</td>\n",
       "    </tr>\n",
       "    <tr>\n",
       "      <th>18</th>\n",
       "      <td>(Cappuccino)</td>\n",
       "      <td>(Ginger Biscotti)</td>\n",
       "      <td>0.388889</td>\n",
       "      <td>0.106198</td>\n",
       "      <td>0.053666</td>\n",
       "      <td>0.137998</td>\n",
       "      <td>1.299441</td>\n",
       "      <td>0.012367</td>\n",
       "      <td>1.036891</td>\n",
       "      <td>0.377081</td>\n",
       "    </tr>\n",
       "  </tbody>\n",
       "</table>\n",
       "</div>"
      ],
      "text/plain": [
       "     antecedents                 consequents  antecedent support  \\\n",
       "26  (Cappuccino)  (Sugar Free Vanilla syrup)            0.388889   \n",
       "12  (Cappuccino)           (Chocolate syrup)            0.388889   \n",
       "6   (Cappuccino)              (Carmel syrup)            0.388889   \n",
       "22  (Cappuccino)            (Hazelnut syrup)            0.388889   \n",
       "20  (Cappuccino)              (Ginger Scone)            0.388889   \n",
       "8   (Cappuccino)   (Chocolate Chip Biscotti)            0.388889   \n",
       "10  (Cappuccino)       (Chocolate Croissant)            0.388889   \n",
       "16  (Cappuccino)                 (Croissant)            0.388889   \n",
       "24  (Cappuccino)        (Jumbo Savory Scone)            0.388889   \n",
       "18  (Cappuccino)           (Ginger Biscotti)            0.388889   \n",
       "\n",
       "    consequent support   support  confidence      lift  leverage  conviction  \\\n",
       "26            0.200302  0.113001    0.290573  1.450674  0.035105    1.127245   \n",
       "12            0.188964  0.109599    0.281827  1.491429  0.036113    1.129304   \n",
       "6             0.191232  0.102797    0.264334  1.382270  0.028429    1.099369   \n",
       "22            0.171580  0.090325    0.232264  1.353682  0.023600    1.079044   \n",
       "20            0.133409  0.059713    0.153547  1.150951  0.007832    1.023791   \n",
       "8             0.112623  0.056311    0.144801  1.285714  0.012514    1.037626   \n",
       "10            0.135676  0.056311    0.144801  1.067250  0.003548    1.010669   \n",
       "16            0.114135  0.056311    0.144801  1.268685  0.011926    1.035859   \n",
       "24            0.114890  0.055178    0.141885  1.234962  0.010498    1.031458   \n",
       "18            0.106198  0.053666    0.137998  1.299441  0.012367    1.036891   \n",
       "\n",
       "    zhangs_metric  \n",
       "26       0.508361  \n",
       "12       0.539185  \n",
       "6        0.452540  \n",
       "22       0.427539  \n",
       "20       0.214614  \n",
       "8        0.363636  \n",
       "10       0.103112  \n",
       "16       0.346553  \n",
       "24       0.311333  \n",
       "18       0.377081  "
      ]
     },
     "execution_count": 51,
     "metadata": {},
     "output_type": "execute_result"
    }
   ],
   "source": [
    "rules_basket[rules_basket['antecedents']=={'Cappuccino'}].sort_values('confidence', ascending=False).head(10)"
   ]
  },
  {
   "cell_type": "markdown",
   "id": "d811225d",
   "metadata": {},
   "source": [
    "### save rules basket in json format"
   ]
  },
  {
   "cell_type": "code",
   "execution_count": 70,
   "id": "9e9b70ff",
   "metadata": {},
   "outputs": [
    {
     "data": {
      "text/plain": [
       "{'Cappuccino': 'Coffee',\n",
       " 'Jumbo Savory Scone': 'Bakery',\n",
       " 'Latte': 'Coffee',\n",
       " 'Chocolate Chip Biscotti': 'Bakery',\n",
       " 'Espresso shot': 'Coffee',\n",
       " 'Hazelnut Biscotti': 'Bakery',\n",
       " 'Chocolate Croissant': 'Bakery',\n",
       " 'Dark chocolate': 'Packaged Chocolate',\n",
       " 'Cranberry Scone': 'Bakery',\n",
       " 'Croissant': 'Bakery',\n",
       " 'Almond Croissant': 'Bakery',\n",
       " 'Ginger Biscotti': 'Bakery',\n",
       " 'Oatmeal Scone': 'Bakery',\n",
       " 'Ginger Scone': 'Bakery',\n",
       " 'Chocolate syrup': 'Flavours',\n",
       " 'Hazelnut syrup': 'Flavours',\n",
       " 'Carmel syrup': 'Flavours',\n",
       " 'Sugar Free Vanilla syrup': 'Flavours'}"
      ]
     },
     "execution_count": 70,
     "metadata": {},
     "output_type": "execute_result"
    }
   ],
   "source": [
    "product_category = df[['product', 'product_category']].drop_duplicates().set_index('product').to_dict()['product_category']\n",
    "product_category"
   ]
  },
  {
   "cell_type": "code",
   "execution_count": 102,
   "id": "2cb1ea8b",
   "metadata": {},
   "outputs": [],
   "source": [
    "apriori_recommendations = {}\n",
    "antecedents = rules_basket['antecedents'].unique()\n",
    "\n",
    "for antecedent in antecedents:\n",
    "    key = \"_\".join(antecedent)\n",
    "    df_rec = rules_basket[rules_basket['antecedents']==antecedent].sort_values('confidence', ascending=False)\n",
    "    apriori_recommendations[key] = []\n",
    "\n",
    "    seen_products = set()\n",
    "\n",
    "    for _, row in df_rec.iterrows():\n",
    "        for consequent in row['consequents']:\n",
    "\n",
    "            if consequent not in seen_products:\n",
    "                seen_products.add(consequent)\n",
    "\n",
    "                rec = {\n",
    "                    'product': consequent,\n",
    "                    'product_category': product_category[consequent],\n",
    "                    'confidence': row['confidence']\n",
    "                }\n",
    "\n",
    "                apriori_recommendations[key].append(rec)"
   ]
  },
  {
   "cell_type": "code",
   "execution_count": 104,
   "id": "95b84301",
   "metadata": {},
   "outputs": [
    {
     "name": "stdout",
     "output_type": "stream",
     "text": [
      "{'Almond Croissant': [{'confidence': 0.4967320261437908,\n",
      "                       'product': 'Dark chocolate',\n",
      "                       'product_category': 'Packaged Chocolate'},\n",
      "                      {'confidence': 0.47058823529411764,\n",
      "                       'product': 'Latte',\n",
      "                       'product_category': 'Coffee'},\n",
      "                      {'confidence': 0.46078431372549017,\n",
      "                       'product': 'Cappuccino',\n",
      "                       'product_category': 'Coffee'}],\n",
      " 'Cappuccino': [{'confidence': 0.29057337220602525,\n",
      "                 'product': 'Sugar Free Vanilla syrup',\n",
      "                 'product_category': 'Flavours'},\n",
      "                {'confidence': 0.2818270165208941,\n",
      "                 'product': 'Chocolate syrup',\n",
      "                 'product_category': 'Flavours'},\n",
      "                {'confidence': 0.26433430515063167,\n",
      "                 'product': 'Carmel syrup',\n",
      "                 'product_category': 'Flavours'},\n",
      "                {'confidence': 0.23226433430515062,\n",
      "                 'product': 'Hazelnut syrup',\n",
      "                 'product_category': 'Flavours'},\n",
      "                {'confidence': 0.15354713313896987,\n",
      "                 'product': 'Ginger Scone',\n",
      "                 'product_category': 'Bakery'},\n",
      "                {'confidence': 0.14480077745383868,\n",
      "                 'product': 'Chocolate Chip Biscotti',\n",
      "                 'product_category': 'Bakery'},\n",
      "                {'confidence': 0.14480077745383868,\n",
      "                 'product': 'Chocolate Croissant',\n",
      "                 'product_category': 'Bakery'},\n",
      "                {'confidence': 0.14480077745383868,\n",
      "                 'product': 'Croissant',\n",
      "                 'product_category': 'Bakery'},\n",
      "                {'confidence': 0.14188532555879496,\n",
      "                 'product': 'Jumbo Savory Scone',\n",
      "                 'product_category': 'Bakery'},\n",
      "                {'confidence': 0.1379980563654033,\n",
      "                 'product': 'Ginger Biscotti',\n",
      "                 'product_category': 'Bakery'},\n",
      "                {'confidence': 0.13702623906705538,\n",
      "                 'product': 'Almond Croissant',\n",
      "                 'product_category': 'Bakery'},\n",
      "                {'confidence': 0.13508260447035958,\n",
      "                 'product': 'Cranberry Scone',\n",
      "                 'product_category': 'Bakery'}],\n",
      " 'Carmel syrup': [{'confidence': 0.5632411067193677,\n",
      "                   'product': 'Latte',\n",
      "                   'product_category': 'Coffee'},\n",
      "                  {'confidence': 0.5375494071146245,\n",
      "                   'product': 'Cappuccino',\n",
      "                   'product_category': 'Coffee'},\n",
      "                  {'confidence': 0.31620553359683795,\n",
      "                   'product': 'Espresso shot',\n",
      "                   'product_category': 'Coffee'},\n",
      "                  {'confidence': 0.2885375494071146,\n",
      "                   'product': 'Dark chocolate',\n",
      "                   'product_category': 'Packaged Chocolate'}],\n",
      " 'Chocolate Chip Biscotti': [{'confidence': 0.5,\n",
      "                              'product': 'Cappuccino',\n",
      "                              'product_category': 'Coffee'},\n",
      "                             {'confidence': 0.47651006711409394,\n",
      "                              'product': 'Dark chocolate',\n",
      "                              'product_category': 'Packaged Chocolate'}],\n",
      " 'Chocolate Croissant': [{'confidence': 0.44289693593314766,\n",
      "                          'product': 'Dark chocolate',\n",
      "                          'product_category': 'Packaged Chocolate'},\n",
      "                         {'confidence': 0.415041782729805,\n",
      "                          'product': 'Cappuccino',\n",
      "                          'product_category': 'Coffee'},\n",
      "                         {'confidence': 0.40668523676880225,\n",
      "                          'product': 'Latte',\n",
      "                          'product_category': 'Coffee'}],\n",
      " 'Chocolate syrup': [{'confidence': 0.58,\n",
      "                      'product': 'Cappuccino',\n",
      "                      'product_category': 'Coffee'},\n",
      "                     {'confidence': 0.5459999999999999,\n",
      "                      'product': 'Latte',\n",
      "                      'product_category': 'Coffee'},\n",
      "                     {'confidence': 0.312,\n",
      "                      'product': 'Espresso shot',\n",
      "                      'product_category': 'Coffee'},\n",
      "                     {'confidence': 0.27999999999999997,\n",
      "                      'product': 'Dark chocolate',\n",
      "                      'product_category': 'Packaged Chocolate'}],\n",
      " 'Cranberry Scone': [{'confidence': 0.48534201954397393,\n",
      "                      'product': 'Dark chocolate',\n",
      "                      'product_category': 'Packaged Chocolate'},\n",
      "                     {'confidence': 0.4527687296416938,\n",
      "                      'product': 'Cappuccino',\n",
      "                      'product_category': 'Coffee'},\n",
      "                     {'confidence': 0.4429967426710098,\n",
      "                      'product': 'Latte',\n",
      "                      'product_category': 'Coffee'}],\n",
      " 'Croissant': [{'confidence': 0.5,\n",
      "                'product': 'Latte',\n",
      "                'product_category': 'Coffee'},\n",
      "               {'confidence': 0.49337748344370863,\n",
      "                'product': 'Cappuccino',\n",
      "                'product_category': 'Coffee'},\n",
      "               {'confidence': 0.4470198675496689,\n",
      "                'product': 'Dark chocolate',\n",
      "                'product_category': 'Packaged Chocolate'}],\n",
      " 'Dark chocolate': [{'confidence': 0.22100954979536153,\n",
      "                     'product': 'Espresso shot',\n",
      "                     'product_category': 'Coffee'},\n",
      "                    {'confidence': 0.2169167803547067,\n",
      "                     'product': 'Chocolate Croissant',\n",
      "                     'product_category': 'Bakery'},\n",
      "                    {'confidence': 0.21555252387448842,\n",
      "                     'product': 'Ginger Scone',\n",
      "                     'product_category': 'Bakery'},\n",
      "                    {'confidence': 0.20736698499317874,\n",
      "                     'product': 'Almond Croissant',\n",
      "                     'product_category': 'Bakery'},\n",
      "                    {'confidence': 0.2032742155525239,\n",
      "                     'product': 'Cranberry Scone',\n",
      "                     'product_category': 'Bakery'},\n",
      "                    {'confidence': 0.19918144611186905,\n",
      "                     'product': 'Carmel syrup',\n",
      "                     'product_category': 'Flavours'},\n",
      "                    {'confidence': 0.19372442019099592,\n",
      "                     'product': 'Chocolate Chip Biscotti',\n",
      "                     'product_category': 'Bakery'},\n",
      "                    {'confidence': 0.19099590723055934,\n",
      "                     'product': 'Chocolate syrup',\n",
      "                     'product_category': 'Flavours'},\n",
      "                    {'confidence': 0.18553888130968624,\n",
      "                     'product': 'Jumbo Savory Scone',\n",
      "                     'product_category': 'Bakery'},\n",
      "                    {'confidence': 0.18417462482946795,\n",
      "                     'product': 'Croissant',\n",
      "                     'product_category': 'Bakery'}],\n",
      " 'Espresso shot': [{'confidence': 0.2924187725631769,\n",
      "                    'product': 'Dark chocolate',\n",
      "                    'product_category': 'Packaged Chocolate'},\n",
      "                   {'confidence': 0.2924187725631769,\n",
      "                    'product': 'Sugar Free Vanilla syrup',\n",
      "                    'product_category': 'Flavours'},\n",
      "                   {'confidence': 0.2888086642599278,\n",
      "                    'product': 'Carmel syrup',\n",
      "                    'product_category': 'Flavours'},\n",
      "                   {'confidence': 0.2815884476534296,\n",
      "                    'product': 'Chocolate syrup',\n",
      "                    'product_category': 'Flavours'},\n",
      "                   {'confidence': 0.26353790613718414,\n",
      "                    'product': 'Hazelnut syrup',\n",
      "                    'product_category': 'Flavours'}],\n",
      " 'Ginger Biscotti': [{'confidence': 0.5088967971530249,\n",
      "                      'product': 'Latte',\n",
      "                      'product_category': 'Coffee'},\n",
      "                     {'confidence': 0.505338078291815,\n",
      "                      'product': 'Cappuccino',\n",
      "                      'product_category': 'Coffee'}],\n",
      " 'Ginger Scone': [{'confidence': 0.4475920679886685,\n",
      "                   'product': 'Cappuccino',\n",
      "                   'product_category': 'Coffee'},\n",
      "                  {'confidence': 0.4475920679886685,\n",
      "                   'product': 'Dark chocolate',\n",
      "                   'product_category': 'Packaged Chocolate'},\n",
      "                  {'confidence': 0.41359773371104813,\n",
      "                   'product': 'Latte',\n",
      "                   'product_category': 'Coffee'}],\n",
      " 'Hazelnut syrup': [{'confidence': 0.5903083700440529,\n",
      "                     'product': 'Latte',\n",
      "                     'product_category': 'Coffee'},\n",
      "                    {'confidence': 0.526431718061674,\n",
      "                     'product': 'Cappuccino',\n",
      "                     'product_category': 'Coffee'},\n",
      "                    {'confidence': 0.32158590308370044,\n",
      "                     'product': 'Espresso shot',\n",
      "                     'product_category': 'Coffee'}],\n",
      " 'Jumbo Savory Scone': [{'confidence': 0.48026315789473684,\n",
      "                         'product': 'Cappuccino',\n",
      "                         'product_category': 'Coffee'},\n",
      "                        {'confidence': 0.4473684210526316,\n",
      "                         'product': 'Dark chocolate',\n",
      "                         'product_category': 'Packaged Chocolate'}],\n",
      " 'Latte': [{'confidence': 0.28486646884273,\n",
      "            'product': 'Sugar Free Vanilla syrup',\n",
      "            'product_category': 'Flavours'},\n",
      "           {'confidence': 0.2818991097922849,\n",
      "            'product': 'Carmel syrup',\n",
      "            'product_category': 'Flavours'},\n",
      "           {'confidence': 0.27002967359050445,\n",
      "            'product': 'Chocolate syrup',\n",
      "            'product_category': 'Flavours'},\n",
      "           {'confidence': 0.26508407517309596,\n",
      "            'product': 'Hazelnut syrup',\n",
      "            'product_category': 'Flavours'},\n",
      "           {'confidence': 0.14935707220573688,\n",
      "            'product': 'Croissant',\n",
      "            'product_category': 'Bakery'},\n",
      "           {'confidence': 0.1444114737883284,\n",
      "            'product': 'Chocolate Croissant',\n",
      "            'product_category': 'Bakery'},\n",
      "           {'confidence': 0.1444114737883284,\n",
      "            'product': 'Ginger Scone',\n",
      "            'product_category': 'Bakery'},\n",
      "           {'confidence': 0.142433234421365,\n",
      "            'product': 'Almond Croissant',\n",
      "            'product_category': 'Bakery'},\n",
      "           {'confidence': 0.1414441147378833,\n",
      "            'product': 'Ginger Biscotti',\n",
      "            'product_category': 'Bakery'},\n",
      "           {'confidence': 0.13452027695351138,\n",
      "            'product': 'Cranberry Scone',\n",
      "            'product_category': 'Bakery'}],\n",
      " 'Sugar Free Vanilla syrup': [{'confidence': 0.5641509433962264,\n",
      "                               'product': 'Cappuccino',\n",
      "                               'product_category': 'Coffee'},\n",
      "                              {'confidence': 0.5433962264150943,\n",
      "                               'product': 'Latte',\n",
      "                               'product_category': 'Coffee'},\n",
      "                              {'confidence': 0.30566037735849055,\n",
      "                               'product': 'Espresso shot',\n",
      "                               'product_category': 'Coffee'}]}\n"
     ]
    }
   ],
   "source": [
    "from pprint import pprint\n",
    "pprint(apriori_recommendations)"
   ]
  },
  {
   "cell_type": "code",
   "execution_count": 105,
   "id": "8c3c6ed4",
   "metadata": {},
   "outputs": [],
   "source": [
    "import json\n",
    "\n",
    "with open('../recommendation_objects/apriori_recommendations.json', 'w') as f:\n",
    "    json.dump(apriori_recommendations, f)"
   ]
  }
 ],
 "metadata": {
  "kernelspec": {
   "display_name": "coffeeshop",
   "language": "python",
   "name": "python3"
  },
  "language_info": {
   "codemirror_mode": {
    "name": "ipython",
    "version": 3
   },
   "file_extension": ".py",
   "mimetype": "text/x-python",
   "name": "python",
   "nbconvert_exporter": "python",
   "pygments_lexer": "ipython3",
   "version": "3.10.18"
  }
 },
 "nbformat": 4,
 "nbformat_minor": 5
}
