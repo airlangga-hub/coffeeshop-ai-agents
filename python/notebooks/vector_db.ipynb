{
 "cells": [
  {
   "cell_type": "code",
   "execution_count": 2,
   "id": "e365c708",
   "metadata": {},
   "outputs": [
    {
     "name": "stderr",
     "output_type": "stream",
     "text": [
      "/opt/anaconda3/envs/coffeeshop/lib/python3.10/site-packages/pinecone/data/index.py:1: TqdmWarning: IProgress not found. Please update jupyter and ipywidgets. See https://ipywidgets.readthedocs.io/en/stable/user_install.html\n",
      "  from tqdm.autonotebook import tqdm\n"
     ]
    }
   ],
   "source": [
    "from pinecone import Pinecone, ServerlessSpec\n",
    "from sentence_transformers import SentenceTransformer"
   ]
  },
  {
   "cell_type": "markdown",
   "id": "7ca1d032",
   "metadata": {},
   "source": [
    "# Test Embedding"
   ]
  },
  {
   "cell_type": "code",
   "execution_count": 3,
   "id": "e0980919",
   "metadata": {},
   "outputs": [],
   "source": [
    "model = SentenceTransformer('all-mpnet-base-v2')"
   ]
  },
  {
   "cell_type": "code",
   "execution_count": 10,
   "id": "ca820ec5",
   "metadata": {},
   "outputs": [
    {
     "name": "stdout",
     "output_type": "stream",
     "text": [
      "Embedding Shape:\n",
      " (2, 768)\n"
     ]
    }
   ],
   "source": [
    "texts = [\"Hello world!\", \"What is up\"]\n",
    "embeddings = model.encode(texts)\n",
    "\n",
    "print(\"Embedding Shape:\\n\", embeddings.shape)"
   ]
  },
  {
   "cell_type": "markdown",
   "id": "5f5c7a9f",
   "metadata": {},
   "source": [
    "# Data Wrangling"
   ]
  },
  {
   "cell_type": "code",
   "execution_count": 7,
   "id": "810e6adc",
   "metadata": {},
   "outputs": [],
   "source": [
    "import pandas as pd"
   ]
  },
  {
   "cell_type": "code",
   "execution_count": 8,
   "id": "17d01a64",
   "metadata": {},
   "outputs": [
    {
     "data": {
      "text/html": [
       "<div>\n",
       "<style scoped>\n",
       "    .dataframe tbody tr th:only-of-type {\n",
       "        vertical-align: middle;\n",
       "    }\n",
       "\n",
       "    .dataframe tbody tr th {\n",
       "        vertical-align: top;\n",
       "    }\n",
       "\n",
       "    .dataframe thead th {\n",
       "        text-align: right;\n",
       "    }\n",
       "</style>\n",
       "<table border=\"1\" class=\"dataframe\">\n",
       "  <thead>\n",
       "    <tr style=\"text-align: right;\">\n",
       "      <th></th>\n",
       "      <th>name</th>\n",
       "      <th>category</th>\n",
       "      <th>description</th>\n",
       "      <th>ingredients</th>\n",
       "      <th>price</th>\n",
       "      <th>rating</th>\n",
       "      <th>image_path</th>\n",
       "    </tr>\n",
       "  </thead>\n",
       "  <tbody>\n",
       "    <tr>\n",
       "      <th>0</th>\n",
       "      <td>Cappuccino</td>\n",
       "      <td>Coffee</td>\n",
       "      <td>A rich and creamy cappuccino made with freshly...</td>\n",
       "      <td>[Espresso, Steamed Milk, Milk Foam]</td>\n",
       "      <td>4.50</td>\n",
       "      <td>4.7</td>\n",
       "      <td>cappuccino.jpg</td>\n",
       "    </tr>\n",
       "    <tr>\n",
       "      <th>1</th>\n",
       "      <td>Jumbo Savory Scone</td>\n",
       "      <td>Bakery</td>\n",
       "      <td>Deliciously flaky and buttery, this jumbo savo...</td>\n",
       "      <td>[Flour, Butter, Cheese, Herbs, Baking Powder, ...</td>\n",
       "      <td>3.25</td>\n",
       "      <td>4.3</td>\n",
       "      <td>SavoryScone.webp</td>\n",
       "    </tr>\n",
       "    <tr>\n",
       "      <th>2</th>\n",
       "      <td>Latte</td>\n",
       "      <td>Coffee</td>\n",
       "      <td>Smooth and creamy, our latte combines rich esp...</td>\n",
       "      <td>[Espresso, Steamed Milk, Milk Foam]</td>\n",
       "      <td>4.75</td>\n",
       "      <td>4.8</td>\n",
       "      <td>Latte.jpg</td>\n",
       "    </tr>\n",
       "    <tr>\n",
       "      <th>3</th>\n",
       "      <td>Chocolate Chip Biscotti</td>\n",
       "      <td>Bakery</td>\n",
       "      <td>Crunchy and delightful, this chocolate chip bi...</td>\n",
       "      <td>[Flour, Sugar, Chocolate Chips, Eggs, Almonds,...</td>\n",
       "      <td>2.50</td>\n",
       "      <td>4.6</td>\n",
       "      <td>chocolat_biscotti.jpg</td>\n",
       "    </tr>\n",
       "    <tr>\n",
       "      <th>4</th>\n",
       "      <td>Espresso shot</td>\n",
       "      <td>Coffee</td>\n",
       "      <td>A bold shot of rich espresso, our espresso is ...</td>\n",
       "      <td>[Espresso]</td>\n",
       "      <td>2.00</td>\n",
       "      <td>4.9</td>\n",
       "      <td>Espresso_shot.webp</td>\n",
       "    </tr>\n",
       "  </tbody>\n",
       "</table>\n",
       "</div>"
      ],
      "text/plain": [
       "                      name category  \\\n",
       "0               Cappuccino   Coffee   \n",
       "1       Jumbo Savory Scone   Bakery   \n",
       "2                    Latte   Coffee   \n",
       "3  Chocolate Chip Biscotti   Bakery   \n",
       "4            Espresso shot   Coffee   \n",
       "\n",
       "                                         description  \\\n",
       "0  A rich and creamy cappuccino made with freshly...   \n",
       "1  Deliciously flaky and buttery, this jumbo savo...   \n",
       "2  Smooth and creamy, our latte combines rich esp...   \n",
       "3  Crunchy and delightful, this chocolate chip bi...   \n",
       "4  A bold shot of rich espresso, our espresso is ...   \n",
       "\n",
       "                                         ingredients  price  rating  \\\n",
       "0                [Espresso, Steamed Milk, Milk Foam]   4.50     4.7   \n",
       "1  [Flour, Butter, Cheese, Herbs, Baking Powder, ...   3.25     4.3   \n",
       "2                [Espresso, Steamed Milk, Milk Foam]   4.75     4.8   \n",
       "3  [Flour, Sugar, Chocolate Chips, Eggs, Almonds,...   2.50     4.6   \n",
       "4                                         [Espresso]   2.00     4.9   \n",
       "\n",
       "              image_path  \n",
       "0         cappuccino.jpg  \n",
       "1       SavoryScone.webp  \n",
       "2              Latte.jpg  \n",
       "3  chocolat_biscotti.jpg  \n",
       "4     Espresso_shot.webp  "
      ]
     },
     "execution_count": 8,
     "metadata": {},
     "output_type": "execute_result"
    }
   ],
   "source": [
    "df = pd.read_json(\"../products/products.jsonl\", lines=True)\n",
    "df.head()"
   ]
  },
  {
   "cell_type": "code",
   "execution_count": 11,
   "id": "8308eccd",
   "metadata": {},
   "outputs": [],
   "source": [
    "df['text'] =  df['name']+ \": \"+ df['description'] + \\\n",
    "                \" -- Ingredients: \" + df['ingredients'].astype(str) + \\\n",
    "                \" -- Price: \" + df['price'].astype(str) + \\\n",
    "                \" -- rating: \" + df['rating'].astype(str)"
   ]
  },
  {
   "cell_type": "code",
   "execution_count": 12,
   "id": "b47f64a4",
   "metadata": {},
   "outputs": [
    {
     "data": {
      "text/plain": [
       "0    Cappuccino: A rich and creamy cappuccino made ...\n",
       "1    Jumbo Savory Scone: Deliciously flaky and butt...\n",
       "2    Latte: Smooth and creamy, our latte combines r...\n",
       "3    Chocolate Chip Biscotti: Crunchy and delightfu...\n",
       "4    Espresso shot: A bold shot of rich espresso, o...\n",
       "Name: text, dtype: object"
      ]
     },
     "execution_count": 12,
     "metadata": {},
     "output_type": "execute_result"
    }
   ],
   "source": [
    "df['text'].head()"
   ]
  },
  {
   "cell_type": "code",
   "execution_count": 16,
   "id": "d0ea2d1a",
   "metadata": {},
   "outputs": [
    {
     "name": "stdout",
     "output_type": "stream",
     "text": [
      "Cappuccino: A rich and creamy cappuccino made with freshly brewed espresso, steamed milk, and a frothy milk cap. This delightful drink offers a perfect balance of bold coffee flavor and smooth milk, making it an ideal companion for relaxing mornings or lively conversations. -- Ingredients: ['Espresso', 'Steamed Milk', 'Milk Foam'] -- Price: 4.5 -- rating: 4.7\n"
     ]
    }
   ],
   "source": [
    "print(df['text'][0])"
   ]
  },
  {
   "cell_type": "code",
   "execution_count": 17,
   "id": "f6594635",
   "metadata": {},
   "outputs": [
    {
     "data": {
      "text/plain": [
       "[\"Cappuccino: A rich and creamy cappuccino made with freshly brewed espresso, steamed milk, and a frothy milk cap. This delightful drink offers a perfect balance of bold coffee flavor and smooth milk, making it an ideal companion for relaxing mornings or lively conversations. -- Ingredients: ['Espresso', 'Steamed Milk', 'Milk Foam'] -- Price: 4.5 -- rating: 4.7\",\n",
       " \"Jumbo Savory Scone: Deliciously flaky and buttery, this jumbo savory scone is filled with herbs and cheese, creating a mouthwatering experience. Perfect for a hearty snack or a light lunch, it pairs beautifully with your favorite coffee or tea. -- Ingredients: ['Flour', 'Butter', 'Cheese', 'Herbs', 'Baking Powder', 'Salt'] -- Price: 3.25 -- rating: 4.3\",\n",
       " \"Latte: Smooth and creamy, our latte combines rich espresso with velvety steamed milk, creating a perfect balance of flavor and texture. Enjoy it as a comforting treat any time of day, whether you're starting your morning or taking a midday break. -- Ingredients: ['Espresso', 'Steamed Milk', 'Milk Foam'] -- Price: 4.75 -- rating: 4.8\"]"
      ]
     },
     "execution_count": 17,
     "metadata": {},
     "output_type": "execute_result"
    }
   ],
   "source": [
    "texts = df['text'].to_list()\n",
    "texts[:3]"
   ]
  },
  {
   "cell_type": "code",
   "execution_count": 19,
   "id": "bf4492f5",
   "metadata": {},
   "outputs": [],
   "source": [
    "with open(\"../products/about_us.txt\", 'r') as f:\n",
    "    about_us = f.read()\n",
    "\n",
    "about_us = \"Airlangga's Coffee About Us Section: \" + about_us\n",
    "\n",
    "texts.append(about_us)"
   ]
  },
  {
   "cell_type": "code",
   "execution_count": null,
   "id": "df1b07f2",
   "metadata": {},
   "outputs": [],
   "source": [
    "with open(\"../products/menu.txt\", 'r') as f:\n",
    "    menu = f.read()\n",
    "\n",
    "menu = \"Menu Items: \" + menu\n",
    "\n",
    "texts.append(menu)"
   ]
  },
  {
   "cell_type": "code",
   "execution_count": 22,
   "id": "545835bc",
   "metadata": {},
   "outputs": [
    {
     "data": {
      "text/plain": [
       "[\"Airlangga's Coffee About Us Section: Welcome to Airlangga's Coffee, your neighborhood coffee shop located in the heart of Kemang, Jakarta. At Airlangga's, we believe that coffee is more than just a drink—it’s an experience, a moment of joy, and a way to connect with others.\\n\\nOur Story\\nFounded in 2015, Airlangga's started as a small family-owned café with one mission: to share the love of quality, ethically-sourced coffee with our community.\\n\\nAirlangga's passion for travel and coffee led him on a journey across Borneo, where he handpicked partnerships with small farms and cooperatives. We ensure that every cup we brew tells a story of dedication and care, from farm to table. Our beans are roasted in-house to bring out unique flavors that reflect the regions where they were grown.\\n\\nDelivery & Locations Served\\nIn addition to offering a cozy place to enjoy coffee in our café, we proudly deliver to Greenwich Village, SoHo, West Village, and Lower Manhattan. Whether you’re at home, in the office, or enjoying a day at Washington Square Park, we bring your favorite coffee right to your door. Just a click away, our delivery service ensures that you never miss your daily cup, no matter where you are.\\n\\nOur Menu\\nOur menu offers something for everyone, from our signature espresso blends to refreshing cold brews, artisanal teas, and fresh-baked goods sourced from local bakeries. We also cater to a variety of dietary needs with a range of plant-based milk options and gluten-free snacks.\\n\\nCommunity & Sustainability\\nAt Airlangga's Way, we are more than just coffee. We are part of the community, and we care deeply about sustainability. We use eco-friendly packaging, work with local farmers, and strive to minimize our carbon footprint. Our café regularly hosts events, such as live music nights, art showcases, and community fundraisers, making it a hub for creativity and connection.\\n\\nWorking Hours\\nWe're open every day to make sure you can get your coffee whenever you need it:\\n\\nMonday to Friday: 7 AM – 8 PM\\nSaturday: 8 AM – 8 PM\\nSunday: 8 AM – 6 PM\\nWhether you’re grabbing a coffee on the go or staying to enjoy the warm, inviting atmosphere of our café, Airlangga's is your destination for coffee done right.\\n\\nStop by today or order online—we can’t wait to serve you!\",\n",
       " 'Menu Items: Menu Items\\n\\nCappuccino - $4.50\\nJumbo Savory Scone - $3.25\\nLatte - $4.75\\nChocolate Chip Biscotti - $2.50\\nEspresso shot - $2.00\\nHazelnut Biscotti - $2.75\\nChocolate Croissant - $3.75\\nDark chocolate (Drinking Chocolate) - $5.00\\nCranberry Scone - $3.50\\nCroissant - $3.25\\nAlmond Croissant - $4.00\\nGinger Biscotti - $2.50\\nOatmeal Scone - $3.25\\nGinger Scone - $3.50\\nChocolate syrup - $1.50\\nHazelnut syrup - $1.50\\nCarmel syrup - $1.50\\nSugar Free Vanilla syrup - $1.50\\nDark chocolate (Packaged Chocolate) - $3.00']"
      ]
     },
     "execution_count": 22,
     "metadata": {},
     "output_type": "execute_result"
    }
   ],
   "source": [
    "texts[-2:]"
   ]
  },
  {
   "cell_type": "code",
   "execution_count": 23,
   "id": "b45ea277",
   "metadata": {},
   "outputs": [
    {
     "data": {
      "text/plain": [
       "[\"Cappuccino: A rich and creamy cappuccino made with freshly brewed espresso, steamed milk, and a frothy milk cap. This delightful drink offers a perfect balance of bold coffee flavor and smooth milk, making it an ideal companion for relaxing mornings or lively conversations. -- Ingredients: ['Espresso', 'Steamed Milk', 'Milk Foam'] -- Price: 4.5 -- rating: 4.7\",\n",
       " \"Jumbo Savory Scone: Deliciously flaky and buttery, this jumbo savory scone is filled with herbs and cheese, creating a mouthwatering experience. Perfect for a hearty snack or a light lunch, it pairs beautifully with your favorite coffee or tea. -- Ingredients: ['Flour', 'Butter', 'Cheese', 'Herbs', 'Baking Powder', 'Salt'] -- Price: 3.25 -- rating: 4.3\",\n",
       " \"Latte: Smooth and creamy, our latte combines rich espresso with velvety steamed milk, creating a perfect balance of flavor and texture. Enjoy it as a comforting treat any time of day, whether you're starting your morning or taking a midday break. -- Ingredients: ['Espresso', 'Steamed Milk', 'Milk Foam'] -- Price: 4.75 -- rating: 4.8\",\n",
       " \"Chocolate Chip Biscotti: Crunchy and delightful, this chocolate chip biscotti is perfect for dipping in your coffee or enjoying on its own. Each bite offers a satisfying crunch and a burst of rich chocolate, making it a favorite for any biscotti lover. -- Ingredients: ['Flour', 'Sugar', 'Chocolate Chips', 'Eggs', 'Almonds', 'Baking Powder'] -- Price: 2.5 -- rating: 4.6\",\n",
       " \"Espresso shot: A bold shot of rich espresso, our espresso is crafted from the finest beans to deliver a robust flavor in every sip. Perfect for a quick pick-me-up, it can also serve as a base for your favorite coffee drinks. -- Ingredients: ['Espresso'] -- Price: 2.0 -- rating: 4.9\",\n",
       " \"Hazelnut Biscotti: These delicious hazelnut biscotti are perfect for a crunchy treat alongside your coffee. Infused with roasted hazelnuts, they provide a delightful nutty flavor that enhances your coffee experience. -- Ingredients: ['Flour', 'Sugar', 'Hazelnuts', 'Eggs', 'Baking Powder'] -- Price: 2.75 -- rating: 4.4\",\n",
       " \"Chocolate Croissant: Flaky and buttery, our chocolate croissant is filled with rich chocolate, making it a delightful pastry for any time. Perfect for breakfast or an afternoon snack, it's a sweet indulgence that never disappoints. -- Ingredients: ['Flour', 'Butter', 'Chocolate', 'Yeast', 'Sugar', 'Salt'] -- Price: 3.75 -- rating: 4.8\",\n",
       " \"Dark chocolate: Rich and indulgent, our dark chocolate drinking chocolate is made with premium cocoa. This luxurious beverage is perfect for a cozy treat on a chilly day, bringing warmth and comfort with every sip. -- Ingredients: ['Cocoa Powder', 'Sugar', 'Milk'] -- Price: 5.0 -- rating: 4.7\",\n",
       " \"Cranberry Scone: This delightful cranberry scone combines sweet and tart flavors, making it perfect for a breakfast treat or afternoon snack. Soft and crumbly, it pairs wonderfully with tea or coffee for a comforting experience. -- Ingredients: ['Flour', 'Butter', 'Cranberries', 'Sugar', 'Baking Powder', 'Eggs'] -- Price: 3.5 -- rating: 4.5\",\n",
       " \"Croissant: Our classic croissant is flaky and buttery, offering a delightful crunch with each bite. Whether enjoyed alone or filled with your favorite spread, it's a timeless pastry that elevates any meal. -- Ingredients: ['Flour', 'Butter', 'Yeast', 'Sugar', 'Salt'] -- Price: 3.25 -- rating: 4.7\",\n",
       " \"Almond Croissant: A delightful twist on the classic croissant, filled with almond cream and topped with slivered almonds for added crunch. This indulgent treat is perfect for those who love a sweet and nutty flavor combination. -- Ingredients: ['Flour', 'Butter', 'Almond Cream', 'Sugar', 'Almonds', 'Yeast'] -- Price: 4.0 -- rating: 4.8\",\n",
       " \"Ginger Biscotti: These spicy ginger biscotti are perfect for dipping and provide a delightful crunch with every bite. The warm flavor of ginger adds a unique twist that pairs beautifully with your favorite hot beverage. -- Ingredients: ['Flour', 'Sugar', 'Ginger', 'Eggs', 'Baking Powder'] -- Price: 2.5 -- rating: 4.7\",\n",
       " \"Oatmeal Scone: Nutty and wholesome, our oatmeal scone is a perfect snack for any time. Made with rolled oats and a hint of sweetness, it's a satisfying option for those who enjoy hearty baked goods. -- Ingredients: ['Flour', 'Oats', 'Butter', 'Sugar', 'Baking Powder', 'Eggs'] -- Price: 3.25 -- rating: 4.3\",\n",
       " \"Ginger Scone: Soft and fragrant, our ginger scone is perfect for a morning treat, infused with the warm spice of ginger. It's an inviting option that pairs beautifully with a cup of tea or coffee. -- Ingredients: ['Flour', 'Butter', 'Ginger', 'Sugar', 'Baking Powder', 'Eggs'] -- Price: 3.5 -- rating: 4.5\",\n",
       " \"Chocolate syrup: Our rich chocolate syrup is perfect for drizzling over desserts or adding to your favorite beverages. Its velvety texture and intense chocolate flavor make it an essential topping for any sweet creation. -- Ingredients: ['Sugar', 'Cocoa Powder', 'Water', 'Vanilla Extract'] -- Price: 1.5 -- rating: 4.8\",\n",
       " \"Hazelnut syrup: Add a nutty flavor to your drinks with our hazelnut syrup, perfect for lattes and desserts. Its smooth sweetness enhances a variety of beverages, making it a must-have for coffee lovers. -- Ingredients: ['Sugar', 'Water', 'Hazelnut Extract', 'Vanilla Extract'] -- Price: 1.5 -- rating: 4.7\",\n",
       " \"Carmel syrup: Sweet and creamy, our caramel syrup is ideal for topping your drinks and desserts with a rich caramel flavor. This versatile syrup elevates everything from coffee to ice cream, providing a luscious touch. -- Ingredients: ['Sugar', 'Water', 'Cream', 'Butter', 'Vanilla Extract'] -- Price: 1.5 -- rating: 4.9\",\n",
       " \"Sugar Free Vanilla syrup: Enjoy the sweet flavor of vanilla without the sugar, making it perfect for your coffee or dessert. This syrup offers a guilt-free way to enhance your beverages, ensuring you never miss out on flavor. -- Ingredients: ['Water', 'Natural Flavors', 'Sucralose'] -- Price: 1.5 -- rating: 4.4\",\n",
       " \"Airlangga's Coffee About Us Section: Welcome to Airlangga's Coffee, your neighborhood coffee shop located in the heart of Kemang, Jakarta. At Airlangga's, we believe that coffee is more than just a drink—it’s an experience, a moment of joy, and a way to connect with others.\\n\\nOur Story\\nFounded in 2015, Airlangga's started as a small family-owned café with one mission: to share the love of quality, ethically-sourced coffee with our community.\\n\\nAirlangga's passion for travel and coffee led him on a journey across Borneo, where he handpicked partnerships with small farms and cooperatives. We ensure that every cup we brew tells a story of dedication and care, from farm to table. Our beans are roasted in-house to bring out unique flavors that reflect the regions where they were grown.\\n\\nDelivery & Locations Served\\nIn addition to offering a cozy place to enjoy coffee in our café, we proudly deliver to Greenwich Village, SoHo, West Village, and Lower Manhattan. Whether you’re at home, in the office, or enjoying a day at Washington Square Park, we bring your favorite coffee right to your door. Just a click away, our delivery service ensures that you never miss your daily cup, no matter where you are.\\n\\nOur Menu\\nOur menu offers something for everyone, from our signature espresso blends to refreshing cold brews, artisanal teas, and fresh-baked goods sourced from local bakeries. We also cater to a variety of dietary needs with a range of plant-based milk options and gluten-free snacks.\\n\\nCommunity & Sustainability\\nAt Airlangga's Way, we are more than just coffee. We are part of the community, and we care deeply about sustainability. We use eco-friendly packaging, work with local farmers, and strive to minimize our carbon footprint. Our café regularly hosts events, such as live music nights, art showcases, and community fundraisers, making it a hub for creativity and connection.\\n\\nWorking Hours\\nWe're open every day to make sure you can get your coffee whenever you need it:\\n\\nMonday to Friday: 7 AM – 8 PM\\nSaturday: 8 AM – 8 PM\\nSunday: 8 AM – 6 PM\\nWhether you’re grabbing a coffee on the go or staying to enjoy the warm, inviting atmosphere of our café, Airlangga's is your destination for coffee done right.\\n\\nStop by today or order online—we can’t wait to serve you!\",\n",
       " 'Menu Items: Menu Items\\n\\nCappuccino - $4.50\\nJumbo Savory Scone - $3.25\\nLatte - $4.75\\nChocolate Chip Biscotti - $2.50\\nEspresso shot - $2.00\\nHazelnut Biscotti - $2.75\\nChocolate Croissant - $3.75\\nDark chocolate (Drinking Chocolate) - $5.00\\nCranberry Scone - $3.50\\nCroissant - $3.25\\nAlmond Croissant - $4.00\\nGinger Biscotti - $2.50\\nOatmeal Scone - $3.25\\nGinger Scone - $3.50\\nChocolate syrup - $1.50\\nHazelnut syrup - $1.50\\nCarmel syrup - $1.50\\nSugar Free Vanilla syrup - $1.50\\nDark chocolate (Packaged Chocolate) - $3.00']"
      ]
     },
     "execution_count": 23,
     "metadata": {},
     "output_type": "execute_result"
    }
   ],
   "source": [
    "texts"
   ]
  },
  {
   "cell_type": "markdown",
   "id": "6c3ad427",
   "metadata": {},
   "source": [
    "# Generate Embeddings"
   ]
  },
  {
   "cell_type": "code",
   "execution_count": 24,
   "id": "44fd7deb",
   "metadata": {},
   "outputs": [
    {
     "data": {
      "text/plain": [
       "(20, 768)"
      ]
     },
     "execution_count": 24,
     "metadata": {},
     "output_type": "execute_result"
    }
   ],
   "source": [
    "embeddings = model.encode(texts)\n",
    "embeddings.shape"
   ]
  },
  {
   "cell_type": "markdown",
   "id": "9e5e845b",
   "metadata": {},
   "source": [
    "# Push Embeddings to Pinecone"
   ]
  },
  {
   "cell_type": "code",
   "execution_count": 26,
   "id": "b6d9b53e",
   "metadata": {},
   "outputs": [],
   "source": [
    "from os import getenv\n",
    "from dotenv import load_dotenv\n",
    "load_dotenv()\n",
    "\n",
    "pinecone_api = getenv(\"PINECONE_API_KEY\")\n",
    "\n",
    "pc = Pinecone(pinecone_api)"
   ]
  },
  {
   "cell_type": "code",
   "execution_count": 31,
   "id": "5fed6e13",
   "metadata": {},
   "outputs": [],
   "source": [
    "index_name = \"coffeeshop\"\n",
    "\n",
    "pc.create_index(\n",
    "    name=index_name,\n",
    "    dimension=768,\n",
    "    spec=ServerlessSpec(\n",
    "        cloud=\"aws\",\n",
    "        region=\"us-east-1\"\n",
    "    )\n",
    ")"
   ]
  },
  {
   "cell_type": "code",
   "execution_count": 32,
   "id": "d2405513",
   "metadata": {},
   "outputs": [],
   "source": [
    "import time"
   ]
  },
  {
   "cell_type": "code",
   "execution_count": 47,
   "id": "6954dc89",
   "metadata": {},
   "outputs": [
    {
     "data": {
      "text/plain": [
       "{'upserted_count': 20}"
      ]
     },
     "execution_count": 47,
     "metadata": {},
     "output_type": "execute_result"
    }
   ],
   "source": [
    "while not pc.describe_index(index_name).status['ready']:\n",
    "    time.sleep(1)\n",
    "\n",
    "index = pc.Index(index_name)\n",
    "\n",
    "vectors = []\n",
    "for text, embedding in zip(texts, embeddings):\n",
    "    id_ = text.split(\":\", 1)[0].strip()\n",
    "    vectors.append(\n",
    "        {\n",
    "            \"id\": id_,\n",
    "            \"values\": embedding.tolist(),\n",
    "            \"metadata\": {\"text\": text}\n",
    "        }\n",
    "    )\n",
    "\n",
    "index.upsert(vectors, \"ns1\")"
   ]
  },
  {
   "cell_type": "markdown",
   "id": "f9f81def",
   "metadata": {},
   "source": [
    "# Pinecone Query Test"
   ]
  },
  {
   "cell_type": "code",
   "execution_count": 51,
   "id": "4c4c4df2",
   "metadata": {},
   "outputs": [],
   "source": [
    "text = \"is Cappucino lactose-free?\"\n",
    "embedding = model.encode(text).tolist()\n",
    "\n",
    "results = index.query(\n",
    "    namespace=\"ns1\",\n",
    "    vector=embedding,\n",
    "    top_k=3,\n",
    "    include_values=False,\n",
    "    include_metadata=True\n",
    ")"
   ]
  },
  {
   "cell_type": "code",
   "execution_count": 52,
   "id": "76b01bce",
   "metadata": {},
   "outputs": [
    {
     "data": {
      "text/plain": [
       "{'matches': [{'id': 'Cappuccino',\n",
       "              'metadata': {'text': 'Cappuccino: A rich and creamy cappuccino '\n",
       "                                   'made with freshly brewed espresso, steamed '\n",
       "                                   'milk, and a frothy milk cap. This '\n",
       "                                   'delightful drink offers a perfect balance '\n",
       "                                   'of bold coffee flavor and smooth milk, '\n",
       "                                   'making it an ideal companion for relaxing '\n",
       "                                   'mornings or lively conversations. -- '\n",
       "                                   \"Ingredients: ['Espresso', 'Steamed Milk', \"\n",
       "                                   \"'Milk Foam'] -- Price: 4.5 -- rating: 4.7\"},\n",
       "              'score': 0.57724,\n",
       "              'values': []},\n",
       "             {'id': 'Latte',\n",
       "              'metadata': {'text': 'Latte: Smooth and creamy, our latte '\n",
       "                                   'combines rich espresso with velvety '\n",
       "                                   'steamed milk, creating a perfect balance '\n",
       "                                   'of flavor and texture. Enjoy it as a '\n",
       "                                   'comforting treat any time of day, whether '\n",
       "                                   \"you're starting your morning or taking a \"\n",
       "                                   \"midday break. -- Ingredients: ['Espresso', \"\n",
       "                                   \"'Steamed Milk', 'Milk Foam'] -- Price: \"\n",
       "                                   '4.75 -- rating: 4.8'},\n",
       "              'score': 0.519625664,\n",
       "              'values': []},\n",
       "             {'id': \"Airlangga's Coffee About Us Section\",\n",
       "              'metadata': {'text': \"Airlangga's Coffee About Us Section: \"\n",
       "                                   \"Welcome to Airlangga's Coffee, your \"\n",
       "                                   'neighborhood coffee shop located in the '\n",
       "                                   \"heart of Kemang, Jakarta. At Airlangga's, \"\n",
       "                                   'we believe that coffee is more than just a '\n",
       "                                   'drink—it’s an experience, a moment of joy, '\n",
       "                                   'and a way to connect with others.\\n'\n",
       "                                   '\\n'\n",
       "                                   'Our Story\\n'\n",
       "                                   \"Founded in 2015, Airlangga's started as a \"\n",
       "                                   'small family-owned café with one mission: '\n",
       "                                   'to share the love of quality, '\n",
       "                                   'ethically-sourced coffee with our '\n",
       "                                   'community.\\n'\n",
       "                                   '\\n'\n",
       "                                   \"Airlangga's passion for travel and coffee \"\n",
       "                                   'led him on a journey across Borneo, where '\n",
       "                                   'he handpicked partnerships with small '\n",
       "                                   'farms and cooperatives. We ensure that '\n",
       "                                   'every cup we brew tells a story of '\n",
       "                                   'dedication and care, from farm to table. '\n",
       "                                   'Our beans are roasted in-house to bring '\n",
       "                                   'out unique flavors that reflect the '\n",
       "                                   'regions where they were grown.\\n'\n",
       "                                   '\\n'\n",
       "                                   'Delivery & Locations Served\\n'\n",
       "                                   'In addition to offering a cozy place to '\n",
       "                                   'enjoy coffee in our café, we proudly '\n",
       "                                   'deliver to Greenwich Village, SoHo, West '\n",
       "                                   'Village, and Lower Manhattan. Whether '\n",
       "                                   'you’re at home, in the office, or enjoying '\n",
       "                                   'a day at Washington Square Park, we bring '\n",
       "                                   'your favorite coffee right to your door. '\n",
       "                                   'Just a click away, our delivery service '\n",
       "                                   'ensures that you never miss your daily '\n",
       "                                   'cup, no matter where you are.\\n'\n",
       "                                   '\\n'\n",
       "                                   'Our Menu\\n'\n",
       "                                   'Our menu offers something for everyone, '\n",
       "                                   'from our signature espresso blends to '\n",
       "                                   'refreshing cold brews, artisanal teas, and '\n",
       "                                   'fresh-baked goods sourced from local '\n",
       "                                   'bakeries. We also cater to a variety of '\n",
       "                                   'dietary needs with a range of plant-based '\n",
       "                                   'milk options and gluten-free snacks.\\n'\n",
       "                                   '\\n'\n",
       "                                   'Community & Sustainability\\n'\n",
       "                                   \"At Airlangga's Way, we are more than just \"\n",
       "                                   'coffee. We are part of the community, and '\n",
       "                                   'we care deeply about sustainability. We '\n",
       "                                   'use eco-friendly packaging, work with '\n",
       "                                   'local farmers, and strive to minimize our '\n",
       "                                   'carbon footprint. Our café regularly hosts '\n",
       "                                   'events, such as live music nights, art '\n",
       "                                   'showcases, and community fundraisers, '\n",
       "                                   'making it a hub for creativity and '\n",
       "                                   'connection.\\n'\n",
       "                                   '\\n'\n",
       "                                   'Working Hours\\n'\n",
       "                                   \"We're open every day to make sure you can \"\n",
       "                                   'get your coffee whenever you need it:\\n'\n",
       "                                   '\\n'\n",
       "                                   'Monday to Friday: 7 AM – 8 PM\\n'\n",
       "                                   'Saturday: 8 AM – 8 PM\\n'\n",
       "                                   'Sunday: 8 AM – 6 PM\\n'\n",
       "                                   'Whether you’re grabbing a coffee on the go '\n",
       "                                   'or staying to enjoy the warm, inviting '\n",
       "                                   \"atmosphere of our café, Airlangga's is \"\n",
       "                                   'your destination for coffee done right.\\n'\n",
       "                                   '\\n'\n",
       "                                   'Stop by today or order online—we can’t '\n",
       "                                   'wait to serve you!'},\n",
       "              'score': 0.357030898,\n",
       "              'values': []}],\n",
       " 'namespace': 'ns1',\n",
       " 'usage': {'read_units': 1}}"
      ]
     },
     "execution_count": 52,
     "metadata": {},
     "output_type": "execute_result"
    }
   ],
   "source": [
    "results"
   ]
  },
  {
   "cell_type": "code",
   "execution_count": null,
   "id": "a46eb41a",
   "metadata": {},
   "outputs": [],
   "source": []
  }
 ],
 "metadata": {
  "kernelspec": {
   "display_name": "coffeeshop",
   "language": "python",
   "name": "python3"
  },
  "language_info": {
   "codemirror_mode": {
    "name": "ipython",
    "version": 3
   },
   "file_extension": ".py",
   "mimetype": "text/x-python",
   "name": "python",
   "nbconvert_exporter": "python",
   "pygments_lexer": "ipython3",
   "version": "3.10.18"
  }
 },
 "nbformat": 4,
 "nbformat_minor": 5
}
